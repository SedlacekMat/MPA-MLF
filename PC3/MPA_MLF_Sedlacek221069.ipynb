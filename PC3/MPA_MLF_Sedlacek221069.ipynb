{
  "cells": [
    {
      "cell_type": "markdown",
      "metadata": {
        "id": "view-in-github"
      },
      "source": [
        "<a href=\"https://colab.research.google.com/github/romanmarsalekBUT/MPA-MLF_materials/blob/main/MPA_MLF_SVM_2students_comments.ipynb\" target=\"_parent\"><img src=\"https://colab.research.google.com/assets/colab-badge.svg\" alt=\"Open In Colab\"/></a>"
      ]
    },
    {
      "cell_type": "markdown",
      "source": [
        "# SVM for classification"
      ],
      "metadata": {
        "id": "qpzybxGIwnuz"
      }
    },
    {
      "cell_type": "markdown",
      "source": [
        "Load IRIS dataset, check its contents:\n"
      ],
      "metadata": {
        "id": "eMcpNqv-uk-K"
      }
    },
    {
      "cell_type": "code",
      "execution_count": 1,
      "metadata": {
        "colab": {
          "base_uri": "https://localhost:8080/"
        },
        "id": "0Pw3iTT7-brT",
        "outputId": "43aa9733-97d4-4610-e504-a013fd5b3c51"
      },
      "outputs": [
        {
          "output_type": "stream",
          "name": "stdout",
          "text": [
            "['sepal length (cm)', 'sepal width (cm)', 'petal length (cm)', 'petal width (cm)']\n",
            "[[5.1 3.5 1.4 0.2]\n",
            " [4.9 3.  1.4 0.2]\n",
            " [4.7 3.2 1.3 0.2]\n",
            " [4.6 3.1 1.5 0.2]\n",
            " [5.  3.6 1.4 0.2]]\n",
            "[0 0 0 0 0 0 0 0 0 0 0 0 0 0 0 0 0 0 0 0 0 0 0 0 0 0 0 0 0 0 0 0 0 0 0 0 0\n",
            " 0 0 0 0 0 0 0 0 0 0 0 0 0 1 1 1 1 1 1 1 1 1 1 1 1 1 1 1 1 1 1 1 1 1 1 1 1\n",
            " 1 1 1 1 1 1 1 1 1 1 1 1 1 1 1 1 1 1 1 1 1 1 1 1 1 1 2 2 2 2 2 2 2 2 2 2 2\n",
            " 2 2 2 2 2 2 2 2 2 2 2 2 2 2 2 2 2 2 2 2 2 2 2 2 2 2 2 2 2 2 2 2 2 2 2 2 2\n",
            " 2 2]\n"
          ]
        }
      ],
      "source": [
        "from sklearn.datasets import load_iris\n",
        "iris=load_iris()\n",
        "iris.feature_names\n",
        "print(iris.feature_names)\n",
        "print(iris.data[0:5,:])\n",
        "print(iris.target[:])\n",
        "#print(iris.data)"
      ]
    },
    {
      "cell_type": "markdown",
      "source": [
        "Split data into training and testing parts:"
      ],
      "metadata": {
        "id": "H5VBL_QBussh"
      }
    },
    {
      "cell_type": "code",
      "source": [
        "from sklearn.model_selection import train_test_split\n",
        "data=iris.data\n",
        "target=iris.target\n",
        "data_train, data_test, target_train, target_test = train_test_split(data,target,test_size=0.2)\n",
        "print(data_train.shape)\n",
        "print(data_test.shape)"
      ],
      "metadata": {
        "id": "rDk-PobDtp7b",
        "outputId": "93e662e6-c472-4958-e246-4b365abf04ff",
        "colab": {
          "base_uri": "https://localhost:8080/"
        }
      },
      "execution_count": 2,
      "outputs": [
        {
          "output_type": "stream",
          "name": "stdout",
          "text": [
            "(120, 4)\n",
            "(30, 4)\n"
          ]
        }
      ]
    },
    {
      "cell_type": "markdown",
      "source": [
        "Use a Support Vector Machine for classification:\n"
      ],
      "metadata": {
        "id": "3hjR3_OOuzZO"
      }
    },
    {
      "cell_type": "code",
      "source": [
        "from sklearn.svm import SVC\n",
        "SVMmodel=SVC(kernel='linear')\n",
        "SVMmodel.fit(data_train,target_train)\n",
        "SVMmodel.get_params()\n",
        "SVMmodel.score(data_test,target_test)"
      ],
      "metadata": {
        "id": "XKbwK1yht2In",
        "outputId": "17c9a361-adc3-4bd5-891c-2502a6a73944",
        "colab": {
          "base_uri": "https://localhost:8080/"
        }
      },
      "execution_count": 3,
      "outputs": [
        {
          "output_type": "execute_result",
          "data": {
            "text/plain": [
              "0.9666666666666667"
            ]
          },
          "metadata": {},
          "execution_count": 3
        }
      ]
    },
    {
      "cell_type": "markdown",
      "source": [
        "Let's explore more now. \n",
        "\n",
        "*   Choose only first two features (columns) of iris.data\n",
        "*   SVM is in its basic form a 2-class classifier, so eliminate iris.target =2 from the data\n",
        "\n"
      ],
      "metadata": {
        "id": "XlCNzZsau7gg"
      }
    },
    {
      "cell_type": "code",
      "execution_count": 4,
      "metadata": {
        "id": "nYdW9o1GhwFA",
        "colab": {
          "base_uri": "https://localhost:8080/"
        },
        "outputId": "101c5ee6-3b0f-42b3-a4d6-447f87ef2ce6"
      },
      "outputs": [
        {
          "output_type": "stream",
          "name": "stdout",
          "text": [
            "(80, 2)\n",
            "(20, 2)\n"
          ]
        }
      ],
      "source": [
        "from sklearn.model_selection import train_test_split\n",
        "data2 = data[target!=2,:2]\n",
        "target2 = target[target!=2]\n",
        "\n",
        "data_train2, data_test2, target_train2, target_test2 = train_test_split(data2,target2,test_size=0.2)\n",
        "print(data_train2.shape)\n",
        "print(data_test2.shape)"
      ]
    },
    {
      "cell_type": "markdown",
      "source": [
        "Plot scatterplots of targets 0 and 1 and check the separability of the classes:"
      ],
      "metadata": {
        "id": "Vx6fPm3KvlyH"
      }
    },
    {
      "cell_type": "code",
      "source": [
        "import matplotlib.pyplot as plot \n",
        "plot.scatter(data[target==0,0],data[target==0,1],c='green')\n",
        "plot.scatter(data[target==1,0],data[target==1,1],c='blue')\n",
        "plot.scatter(data[target==2,0],data[target==2,1],c='red')"
      ],
      "metadata": {
        "id": "flQWBul_ZYjK",
        "colab": {
          "base_uri": "https://localhost:8080/",
          "height": 285
        },
        "outputId": "8dbf184e-9448-4192-b2e2-ef802fb3ea8f"
      },
      "execution_count": 5,
      "outputs": [
        {
          "output_type": "execute_result",
          "data": {
            "text/plain": [
              "<matplotlib.collections.PathCollection at 0x7fc5001a5bb0>"
            ]
          },
          "metadata": {},
          "execution_count": 5
        },
        {
          "output_type": "display_data",
          "data": {
            "text/plain": [
              "<Figure size 432x288 with 1 Axes>"
            ],
            "image/png": "[encoded data removed]"
          },
          "metadata": {
            "needs_background": "light"
          }
        }
      ]
    },
    {
      "cell_type": "markdown",
      "source": [
        "Train and test the SVM classifier, play with regularization parameter C (either use the default value or try e.g. 200)"
      ],
      "metadata": {
        "id": "mu3qUUvHv1TP"
      }
    },
    {
      "cell_type": "code",
      "execution_count": 6,
      "metadata": {
        "id": "HOo58lvZo_Lf",
        "colab": {
          "base_uri": "https://localhost:8080/"
        },
        "outputId": "c7601674-477f-45da-8536-bf49d86fe7e9"
      },
      "outputs": [
        {
          "output_type": "execute_result",
          "data": {
            "text/plain": [
              "1.0"
            ]
          },
          "metadata": {},
          "execution_count": 6
        }
      ],
      "source": [
        "from sklearn.svm import SVC\n",
        "SVMmodel=SVC(kernel='linear',C = 1)\n",
        "SVMmodel.fit(data_train2,target_train2)\n",
        "SVMmodel.get_params()\n",
        "SVMmodel.score(data_test2,target_test2)"
      ]
    },
    {
      "cell_type": "markdown",
      "source": [],
      "metadata": {
        "id": "vpOHSYlCwdED"
      }
    },
    {
      "cell_type": "markdown",
      "source": [
        "Show support vectors in the 2D plot, plot the decision line from equation [w0 w1]*[x0 x1] + b = 0:"
      ],
      "metadata": {
        "id": "MshE_3pPwceK"
      }
    },
    {
      "cell_type": "code",
      "execution_count": 7,
      "metadata": {
        "colab": {
          "base_uri": "https://localhost:8080/",
          "height": 300
        },
        "id": "MkZj_qEMvHeY",
        "outputId": "0890ec35-7be0-46ff-bd5a-1954223afdb8"
      },
      "outputs": [
        {
          "output_type": "stream",
          "name": "stdout",
          "text": [
            "(18, 2)\n"
          ]
        },
        {
          "output_type": "execute_result",
          "data": {
            "text/plain": [
              "[<matplotlib.lines.Line2D at 0x7fc4ffc99070>]"
            ]
          },
          "metadata": {},
          "execution_count": 7
        },
        {
          "output_type": "display_data",
          "data": {
            "text/plain": [
              "<Figure size 432x288 with 1 Axes>"
            ],
            "image/png": "[encoded data removed]"
          },
          "metadata": {
            "needs_background": "light"
          }
        }
      ],
      "source": [
        "import numpy as np\n",
        "\n",
        "supVecs=SVMmodel.support_vectors_\n",
        "print(supVecs.shape)\n",
        "\n",
        "plot.scatter(data2[target2==0,0],data2[target2==0,1],c='green')\n",
        "plot.scatter(data2[target2==1,0],data2[target2==1,1],c='blue')\n",
        "\n",
        "plot.scatter(supVecs[:,0],supVecs[:,1], c = 'gold')\n",
        "\n",
        "#Separating line coefficients:\n",
        "W=SVMmodel.coef_\n",
        "b=SVMmodel.intercept_\n",
        "\n",
        "\n",
        "\n",
        "decLineX = np.linspace(min(data2[:,0]),max(data2[:,0]),100)\n",
        "W = W.tolist()[0]\n",
        "decLineY = -W[0]/W[1]*decLineX-b/W[1]\n",
        "plot.plot(decLineX,decLineY, c = 'red')\n"
      ]
    },
    {
      "cell_type": "markdown",
      "metadata": {
        "id": "TR9Kkzlrx6Pl"
      },
      "source": [
        "# Anomaly detection via SVM"
      ]
    },
    {
      "cell_type": "markdown",
      "source": [
        "Import one-class SVM and generate data (Gaussian blobs in 2D-plane):"
      ],
      "metadata": {
        "id": "D6e44AnXmxZi"
      }
    },
    {
      "cell_type": "code",
      "source": [
        "from sklearn.svm import OneClassSVM\n",
        "from sklearn.datasets import make_blobs\n",
        "from numpy import quantile, where, random\n",
        "\n",
        "random.seed(11)\n",
        "dataOC, _ = make_blobs(n_samples=300, centers=1, cluster_std=.3, center_box=(4, 4))\n",
        "\n",
        "plot.scatter(dataOC[:,0], dataOC[:,1])\n",
        "plot.show()\n",
        "\n"
      ],
      "metadata": {
        "colab": {
          "base_uri": "https://localhost:8080/",
          "height": 265
        },
        "id": "kA9NeGTXm2Ry",
        "outputId": "33d8de8c-51b6-41b6-9778-a5ac60affead"
      },
      "execution_count": 8,
      "outputs": [
        {
          "output_type": "display_data",
          "data": {
            "text/plain": [
              "<Figure size 432x288 with 1 Axes>"
            ],
            "image/png": "[encoded data removed]"
          },
          "metadata": {
            "needs_background": "light"
          }
        }
      ]
    },
    {
      "cell_type": "markdown",
      "source": [
        "Train one-class SVM and plot the outliers (outputs of prediction being equal to -1)"
      ],
      "metadata": {
        "id": "HrWy_Y9Sw41V"
      }
    },
    {
      "cell_type": "code",
      "source": [
        "SVMmodelOne = OneClassSVM(kernel='rbf', gamma=0.001, nu=0.03)\n",
        "\n",
        "\n",
        "SVMmodelOne.fit(dataOC)\n",
        "pred = SVMmodelOne.predict(dataOC)\n",
        "anom_index = where(pred==-1)\n",
        "values = dataOC[anom_index]\n",
        "\n",
        "plot.scatter(dataOC[:,0], dataOC[:,1])\n",
        "plot.scatter(values[:,0], values[:,1], color='red')\n",
        "plot.axis('equal')\n",
        "plot.show()\n",
        "\n"
      ],
      "metadata": {
        "id": "esEEn-KqoZic",
        "outputId": "28874979-b49c-47a0-e39f-b332f1286c92",
        "colab": {
          "base_uri": "https://localhost:8080/",
          "height": 265
        }
      },
      "execution_count": 9,
      "outputs": [
        {
          "output_type": "display_data",
          "data": {
            "text/plain": [
              "<Figure size 432x288 with 1 Axes>"
            ],
            "image/png": "[encoded data removed]"
          },
          "metadata": {
            "needs_background": "light"
          }
        }
      ]
    },
    {
      "cell_type": "markdown",
      "source": [
        "Plot the support vectors:"
      ],
      "metadata": {
        "id": "kIZmSPRGxNRK"
      }
    },
    {
      "cell_type": "code",
      "source": [
        "supVecsOC=SVMmodelOne.support_vectors_\n",
        "print(supVecsOC.shape)\n",
        "\n",
        "plot.scatter(dataOC[:,0], dataOC[:,1])\n",
        "plot.scatter(values[:,0], values[:,1], color='red')\n",
        "plot.scatter(supVecsOC[:,0],supVecsOC[:,1], c = 'gold')"
      ],
      "metadata": {
        "id": "RJcyvEHKsR8T",
        "colab": {
          "base_uri": "https://localhost:8080/",
          "height": 300
        },
        "outputId": "5a79eaaf-2228-49a6-b548-83a23398a41b"
      },
      "execution_count": 10,
      "outputs": [
        {
          "output_type": "stream",
          "name": "stdout",
          "text": [
            "(10, 2)\n"
          ]
        },
        {
          "output_type": "execute_result",
          "data": {
            "text/plain": [
              "<matplotlib.collections.PathCollection at 0x7fc4ffbba190>"
            ]
          },
          "metadata": {},
          "execution_count": 10
        },
        {
          "output_type": "display_data",
          "data": {
            "text/plain": [
              "<Figure size 432x288 with 1 Axes>"
            ],
            "image/png": "[encoded data removed]"
          },
          "metadata": {
            "needs_background": "light"
          }
        }
      ]
    },
    {
      "cell_type": "markdown",
      "source": [
        "What if we want to have a control what is outlier? Use e.g. 5% \"quantile\" to mark the outliers. Every point with lower score than threshold will be an outlier."
      ],
      "metadata": {
        "id": "VbEUVj8RxS1p"
      }
    },
    {
      "cell_type": "code",
      "source": [
        "scores = SVMmodelOne.score_samples(dataOC)\n",
        "\n",
        "thresh = quantile(scores, 0.05)\n",
        "print(thresh)\n",
        "index = where(scores<=thresh)\n",
        "values = dataOC[index]\n",
        "\n",
        "plot.scatter(dataOC[:,0], dataOC[:,1])\n",
        "plot.scatter(values[:,0], values[:,1], color='red')\n",
        "plot.axis('equal')\n",
        "plot.show()"
      ],
      "metadata": {
        "id": "DQzxxUePs6sN",
        "outputId": "95a1130c-fcb7-41c7-8e50-e05f21c005d5",
        "colab": {
          "base_uri": "https://localhost:8080/",
          "height": 282
        }
      },
      "execution_count": 13,
      "outputs": [
        {
          "output_type": "stream",
          "name": "stdout",
          "text": [
            "8.989098620408397\n"
          ]
        },
        {
          "output_type": "display_data",
          "data": {
            "text/plain": [
              "<Figure size 432x288 with 1 Axes>"
            ],
            "image/png": "[encoded data removed]"
          },
          "metadata": {
            "needs_background": "light"
          }
        }
      ]
    }
  ],
  "metadata": {
    "colab": {
      "provenance": []
    },
    "kernelspec": {
      "display_name": "Python 3",
      "name": "python3"
    },
    "language_info": {
      "name": "python"
    },
    "gpuClass": "standard"
  },
  "nbformat": 4,
  "nbformat_minor": 0
}