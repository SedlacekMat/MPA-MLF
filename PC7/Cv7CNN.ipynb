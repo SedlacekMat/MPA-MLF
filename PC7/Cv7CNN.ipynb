{
  "nbformat": 4,
  "nbformat_minor": 0,
  "metadata": {
    "colab": {
      "provenance": []
    },
    "kernelspec": {
      "name": "python3",
      "display_name": "Python 3"
    },
    "language_info": {
      "name": "python"
    }
  },
  "cells": [
    {
      "cell_type": "markdown",
      "source": [
        "# 0. Import libraries\n",
        "\n"
      ],
      "metadata": {
        "id": "2QFjlROcIyF_"
      }
    },
    {
      "cell_type": "code",
      "source": [
        "from keras.models import Sequential\n",
        "from keras.layers import Dense, Flatten, Dropout\n",
        "from keras.optimizers import SGD\n",
        "from keras.optimizers import Adamax\n",
        "from keras.utils import to_categorical\n",
        "\n",
        "import matplotlib.pyplot as plt\n",
        "import matplotlib\n",
        "import numpy as np\n",
        "import pandas as pd\n",
        "import math\n",
        "\n",
        "font = {'weight' : 'bold',\n",
        "        'size'   : 12}\n",
        "\n",
        "matplotlib.rc('font', **font)"
      ],
      "metadata": {
        "id": "9Hku8TtJI5rk"
      },
      "execution_count": 1,
      "outputs": []
    },
    {
      "cell_type": "markdown",
      "source": [
        "# 1. Get data"
      ],
      "metadata": {
        "id": "FjDvNZUMJRX6"
      }
    },
    {
      "cell_type": "code",
      "source": [
        "# make wavyboi\n",
        "sinLength = 10000\n",
        "x = np.linspace(0,2*math.pi,sinLength)\n",
        "y = (np.sin(x)+1)/2\n",
        "\n",
        "plt.figure()\n",
        "plt.plot(x,y)\n",
        "\n",
        "x = pd.DataFrame(x)\n",
        "y = pd.DataFrame(y)"
      ],
      "metadata": {
        "colab": {
          "base_uri": "https://localhost:8080/",
          "height": 434
        },
        "id": "HZVt1gUpJWyZ",
        "outputId": "47f79353-7ee1-4f77-b237-ca2c5482967f"
      },
      "execution_count": 2,
      "outputs": [
        {
          "output_type": "display_data",
          "data": {
            "text/plain": [
              "<Figure size 640x480 with 1 Axes>"
            ],
            "image/png": "[encoded data removed]"
          },
          "metadata": {}
        }
      ]
    },
    {
      "cell_type": "markdown",
      "source": [
        "# 2. Model"
      ],
      "metadata": {
        "id": "ttvpoL0DK036"
      }
    },
    {
      "cell_type": "code",
      "source": [
        "model = Sequential()\n",
        "model.add(Dense(10, input_shape=(1,), activation ='tanh'))\n",
        "model.add(Dense(20, activation='tanh'))\n",
        "model.add(Dense(40, activation='tanh'))\n",
        "model.add(Dense(20, activation='tanh'))\n",
        "model.add(Dense(1, activation='tanh'))\n",
        "\n",
        "model.summary()"
      ],
      "metadata": {
        "colab": {
          "base_uri": "https://localhost:8080/"
        },
        "id": "xKWjMjjMK-Vo",
        "outputId": "5ab78fa5-00a7-4d1d-ed9c-879326c24732"
      },
      "execution_count": 3,
      "outputs": [
        {
          "output_type": "stream",
          "name": "stdout",
          "text": [
            "Model: \"sequential\"\n",
            "_________________________________________________________________\n",
            " Layer (type)                Output Shape              Param #   \n",
            "=================================================================\n",
            " dense (Dense)               (None, 10)                20        \n",
            "                                                                 \n",
            " dense_1 (Dense)             (None, 20)                220       \n",
            "                                                                 \n",
            " dense_2 (Dense)             (None, 40)                840       \n",
            "                                                                 \n",
            " dense_3 (Dense)             (None, 20)                820       \n",
            "                                                                 \n",
            " dense_4 (Dense)             (None, 1)                 21        \n",
            "                                                                 \n",
            "=================================================================\n",
            "Total params: 1,921\n",
            "Trainable params: 1,921\n",
            "Non-trainable params: 0\n",
            "_________________________________________________________________\n"
          ]
        }
      ]
    },
    {
      "cell_type": "code",
      "source": [
        "optimizer = SGD(learning_rate = 0.01)\n",
        "model.compile(loss='mean_squared_error', optimizer=optimizer, metrics=['mean_squared_error'])\n",
        "\n",
        "history = model.fit(x, y, epochs=100, batch_size=300)\n"
      ],
      "metadata": {
        "colab": {
          "base_uri": "https://localhost:8080/"
        },
        "id": "FbNW1CaELihj",
        "outputId": "dfdaad30-1644-4977-f2ab-cf5056c1c06b"
      },
      "execution_count": 4,
      "outputs": [
        {
          "output_type": "stream",
          "name": "stdout",
          "text": [
            "Epoch 1/100\n",
            "34/34 [==============================] - 0s 2ms/step - loss: 0.1108 - mean_squared_error: 0.1108\n",
            "Epoch 2/100\n",
            "34/34 [==============================] - 0s 1ms/step - loss: 0.0626 - mean_squared_error: 0.0626\n",
            "Epoch 3/100\n",
            "34/34 [==============================] - 0s 2ms/step - loss: 0.0476 - mean_squared_error: 0.0476\n",
            "Epoch 4/100\n",
            "34/34 [==============================] - 0s 2ms/step - loss: 0.0410 - mean_squared_error: 0.0410\n",
            "Epoch 5/100\n",
            "34/34 [==============================] - 0s 1ms/step - loss: 0.0377 - mean_squared_error: 0.0377\n",
            "Epoch 6/100\n",
            "34/34 [==============================] - 0s 1ms/step - loss: 0.0360 - mean_squared_error: 0.0360\n",
            "Epoch 7/100\n",
            "34/34 [==============================] - 2s 75ms/step - loss: 0.0347 - mean_squared_error: 0.0347\n",
            "Epoch 8/100\n",
            "34/34 [==============================] - 0s 2ms/step - loss: 0.0338 - mean_squared_error: 0.0338\n",
            "Epoch 9/100\n",
            "34/34 [==============================] - 0s 3ms/step - loss: 0.0331 - mean_squared_error: 0.0331\n",
            "Epoch 10/100\n",
            "34/34 [==============================] - 0s 2ms/step - loss: 0.0324 - mean_squared_error: 0.0324\n",
            "Epoch 11/100\n",
            "34/34 [==============================] - 0s 2ms/step - loss: 0.0318 - mean_squared_error: 0.0318\n",
            "Epoch 12/100\n",
            "34/34 [==============================] - 0s 2ms/step - loss: 0.0312 - mean_squared_error: 0.0312\n",
            "Epoch 13/100\n",
            "34/34 [==============================] - 0s 2ms/step - loss: 0.0307 - mean_squared_error: 0.0307\n",
            "Epoch 14/100\n",
            "34/34 [==============================] - 0s 2ms/step - loss: 0.0302 - mean_squared_error: 0.0302\n",
            "Epoch 15/100\n",
            "34/34 [==============================] - 0s 2ms/step - loss: 0.0298 - mean_squared_error: 0.0298\n",
            "Epoch 16/100\n",
            "34/34 [==============================] - 1s 27ms/step - loss: 0.0294 - mean_squared_error: 0.0294\n",
            "Epoch 17/100\n",
            "34/34 [==============================] - 1s 30ms/step - loss: 0.0289 - mean_squared_error: 0.0289\n",
            "Epoch 18/100\n",
            "34/34 [==============================] - 0s 13ms/step - loss: 0.0285 - mean_squared_error: 0.0285\n",
            "Epoch 19/100\n",
            "34/34 [==============================] - 0s 5ms/step - loss: 0.0281 - mean_squared_error: 0.0281\n",
            "Epoch 20/100\n",
            "34/34 [==============================] - 0s 5ms/step - loss: 0.0277 - mean_squared_error: 0.0277\n",
            "Epoch 21/100\n",
            "34/34 [==============================] - 0s 4ms/step - loss: 0.0273 - mean_squared_error: 0.0273\n",
            "Epoch 22/100\n",
            "34/34 [==============================] - 1s 18ms/step - loss: 0.0270 - mean_squared_error: 0.0270\n",
            "Epoch 23/100\n",
            "34/34 [==============================] - 0s 2ms/step - loss: 0.0266 - mean_squared_error: 0.0266\n",
            "Epoch 24/100\n",
            "34/34 [==============================] - 0s 2ms/step - loss: 0.0263 - mean_squared_error: 0.0263\n",
            "Epoch 25/100\n",
            "34/34 [==============================] - 0s 2ms/step - loss: 0.0259 - mean_squared_error: 0.0259\n",
            "Epoch 26/100\n",
            "34/34 [==============================] - 0s 2ms/step - loss: 0.0256 - mean_squared_error: 0.0256\n",
            "Epoch 27/100\n",
            "34/34 [==============================] - 0s 2ms/step - loss: 0.0253 - mean_squared_error: 0.0253\n",
            "Epoch 28/100\n",
            "34/34 [==============================] - 0s 3ms/step - loss: 0.0250 - mean_squared_error: 0.0250\n",
            "Epoch 29/100\n",
            "34/34 [==============================] - 1s 27ms/step - loss: 0.0247 - mean_squared_error: 0.0247\n",
            "Epoch 30/100\n",
            "34/34 [==============================] - 0s 11ms/step - loss: 0.0244 - mean_squared_error: 0.0244\n",
            "Epoch 31/100\n",
            "34/34 [==============================] - 0s 2ms/step - loss: 0.0241 - mean_squared_error: 0.0241\n",
            "Epoch 32/100\n",
            "34/34 [==============================] - 0s 4ms/step - loss: 0.0239 - mean_squared_error: 0.0239\n",
            "Epoch 33/100\n",
            "34/34 [==============================] - 0s 4ms/step - loss: 0.0236 - mean_squared_error: 0.0236\n",
            "Epoch 34/100\n",
            "34/34 [==============================] - 0s 2ms/step - loss: 0.0233 - mean_squared_error: 0.0233\n",
            "Epoch 35/100\n",
            "34/34 [==============================] - 0s 2ms/step - loss: 0.0231 - mean_squared_error: 0.0231\n",
            "Epoch 36/100\n",
            "34/34 [==============================] - 0s 12ms/step - loss: 0.0228 - mean_squared_error: 0.0228\n",
            "Epoch 37/100\n",
            "34/34 [==============================] - 0s 3ms/step - loss: 0.0226 - mean_squared_error: 0.0226\n",
            "Epoch 38/100\n",
            "34/34 [==============================] - 0s 2ms/step - loss: 0.0223 - mean_squared_error: 0.0223\n",
            "Epoch 39/100\n",
            "34/34 [==============================] - 0s 3ms/step - loss: 0.0221 - mean_squared_error: 0.0221\n",
            "Epoch 40/100\n",
            "34/34 [==============================] - 0s 3ms/step - loss: 0.0219 - mean_squared_error: 0.0219\n",
            "Epoch 41/100\n",
            "34/34 [==============================] - 0s 4ms/step - loss: 0.0217 - mean_squared_error: 0.0217\n",
            "Epoch 42/100\n",
            "34/34 [==============================] - 0s 3ms/step - loss: 0.0215 - mean_squared_error: 0.0215\n",
            "Epoch 43/100\n",
            "34/34 [==============================] - 0s 3ms/step - loss: 0.0213 - mean_squared_error: 0.0213\n",
            "Epoch 44/100\n",
            "34/34 [==============================] - 1s 27ms/step - loss: 0.0211 - mean_squared_error: 0.0211\n",
            "Epoch 45/100\n",
            "34/34 [==============================] - 0s 1ms/step - loss: 0.0209 - mean_squared_error: 0.0209\n",
            "Epoch 46/100\n",
            "34/34 [==============================] - 0s 1ms/step - loss: 0.0207 - mean_squared_error: 0.0207\n",
            "Epoch 47/100\n",
            "34/34 [==============================] - 0s 2ms/step - loss: 0.0205 - mean_squared_error: 0.0205\n",
            "Epoch 48/100\n",
            "34/34 [==============================] - 0s 1ms/step - loss: 0.0205 - mean_squared_error: 0.0205\n",
            "Epoch 49/100\n",
            "34/34 [==============================] - 0s 1ms/step - loss: 0.0202 - mean_squared_error: 0.0202\n",
            "Epoch 50/100\n",
            "34/34 [==============================] - 0s 1ms/step - loss: 0.0201 - mean_squared_error: 0.0201\n",
            "Epoch 51/100\n",
            "34/34 [==============================] - 0s 2ms/step - loss: 0.0199 - mean_squared_error: 0.0199\n",
            "Epoch 52/100\n",
            "34/34 [==============================] - 0s 1ms/step - loss: 0.0197 - mean_squared_error: 0.0197\n",
            "Epoch 53/100\n",
            "34/34 [==============================] - 0s 2ms/step - loss: 0.0196 - mean_squared_error: 0.0196\n",
            "Epoch 54/100\n",
            "34/34 [==============================] - 0s 2ms/step - loss: 0.0194 - mean_squared_error: 0.0194\n",
            "Epoch 55/100\n",
            "34/34 [==============================] - 0s 1ms/step - loss: 0.0193 - mean_squared_error: 0.0193\n",
            "Epoch 56/100\n",
            "34/34 [==============================] - 0s 1ms/step - loss: 0.0191 - mean_squared_error: 0.0191\n",
            "Epoch 57/100\n",
            "34/34 [==============================] - 0s 1ms/step - loss: 0.0190 - mean_squared_error: 0.0190\n",
            "Epoch 58/100\n",
            "34/34 [==============================] - 0s 1ms/step - loss: 0.0188 - mean_squared_error: 0.0188\n",
            "Epoch 59/100\n",
            "34/34 [==============================] - 0s 1ms/step - loss: 0.0187 - mean_squared_error: 0.0187\n",
            "Epoch 60/100\n",
            "34/34 [==============================] - 0s 1ms/step - loss: 0.0186 - mean_squared_error: 0.0186\n",
            "Epoch 61/100\n",
            "34/34 [==============================] - 0s 1ms/step - loss: 0.0185 - mean_squared_error: 0.0185\n",
            "Epoch 62/100\n",
            "34/34 [==============================] - 0s 1ms/step - loss: 0.0184 - mean_squared_error: 0.0184\n",
            "Epoch 63/100\n",
            "34/34 [==============================] - 0s 1ms/step - loss: 0.0182 - mean_squared_error: 0.0182\n",
            "Epoch 64/100\n",
            "34/34 [==============================] - 0s 1ms/step - loss: 0.0181 - mean_squared_error: 0.0181\n",
            "Epoch 65/100\n",
            "34/34 [==============================] - 0s 1ms/step - loss: 0.0180 - mean_squared_error: 0.0180\n",
            "Epoch 66/100\n",
            "34/34 [==============================] - 0s 1ms/step - loss: 0.0179 - mean_squared_error: 0.0179\n",
            "Epoch 67/100\n",
            "34/34 [==============================] - 0s 2ms/step - loss: 0.0177 - mean_squared_error: 0.0177\n",
            "Epoch 68/100\n",
            "34/34 [==============================] - 0s 1ms/step - loss: 0.0176 - mean_squared_error: 0.0176\n",
            "Epoch 69/100\n",
            "34/34 [==============================] - 0s 1ms/step - loss: 0.0175 - mean_squared_error: 0.0175\n",
            "Epoch 70/100\n",
            "34/34 [==============================] - 0s 1ms/step - loss: 0.0174 - mean_squared_error: 0.0174\n",
            "Epoch 71/100\n",
            "34/34 [==============================] - 0s 2ms/step - loss: 0.0173 - mean_squared_error: 0.0173\n",
            "Epoch 72/100\n",
            "34/34 [==============================] - 0s 1ms/step - loss: 0.0172 - mean_squared_error: 0.0172\n",
            "Epoch 73/100\n",
            "34/34 [==============================] - 0s 1ms/step - loss: 0.0171 - mean_squared_error: 0.0171\n",
            "Epoch 74/100\n",
            "34/34 [==============================] - 0s 1ms/step - loss: 0.0169 - mean_squared_error: 0.0169\n",
            "Epoch 75/100\n",
            "34/34 [==============================] - 0s 1ms/step - loss: 0.0169 - mean_squared_error: 0.0169\n",
            "Epoch 76/100\n",
            "34/34 [==============================] - 0s 1ms/step - loss: 0.0168 - mean_squared_error: 0.0168\n",
            "Epoch 77/100\n",
            "34/34 [==============================] - 0s 2ms/step - loss: 0.0167 - mean_squared_error: 0.0167\n",
            "Epoch 78/100\n",
            "34/34 [==============================] - 0s 1ms/step - loss: 0.0166 - mean_squared_error: 0.0166\n",
            "Epoch 79/100\n",
            "34/34 [==============================] - 0s 1ms/step - loss: 0.0164 - mean_squared_error: 0.0164\n",
            "Epoch 80/100\n",
            "34/34 [==============================] - 0s 1ms/step - loss: 0.0163 - mean_squared_error: 0.0163\n",
            "Epoch 81/100\n",
            "34/34 [==============================] - 0s 1ms/step - loss: 0.0162 - mean_squared_error: 0.0162\n",
            "Epoch 82/100\n",
            "34/34 [==============================] - 0s 1ms/step - loss: 0.0161 - mean_squared_error: 0.0161\n",
            "Epoch 83/100\n",
            "34/34 [==============================] - 0s 1ms/step - loss: 0.0160 - mean_squared_error: 0.0160\n",
            "Epoch 84/100\n",
            "34/34 [==============================] - 0s 1ms/step - loss: 0.0159 - mean_squared_error: 0.0159\n",
            "Epoch 85/100\n",
            "34/34 [==============================] - 0s 1ms/step - loss: 0.0159 - mean_squared_error: 0.0159\n",
            "Epoch 86/100\n",
            "34/34 [==============================] - 0s 2ms/step - loss: 0.0158 - mean_squared_error: 0.0158\n",
            "Epoch 87/100\n",
            "34/34 [==============================] - 0s 1ms/step - loss: 0.0156 - mean_squared_error: 0.0156\n",
            "Epoch 88/100\n",
            "34/34 [==============================] - 0s 1ms/step - loss: 0.0155 - mean_squared_error: 0.0155\n",
            "Epoch 89/100\n",
            "34/34 [==============================] - 0s 1ms/step - loss: 0.0155 - mean_squared_error: 0.0155\n",
            "Epoch 90/100\n",
            "34/34 [==============================] - 0s 1ms/step - loss: 0.0154 - mean_squared_error: 0.0154\n",
            "Epoch 91/100\n",
            "34/34 [==============================] - 0s 1ms/step - loss: 0.0152 - mean_squared_error: 0.0152\n",
            "Epoch 92/100\n",
            "34/34 [==============================] - 0s 2ms/step - loss: 0.0152 - mean_squared_error: 0.0152\n",
            "Epoch 93/100\n",
            "34/34 [==============================] - 0s 2ms/step - loss: 0.0151 - mean_squared_error: 0.0151\n",
            "Epoch 94/100\n",
            "34/34 [==============================] - 0s 2ms/step - loss: 0.0151 - mean_squared_error: 0.0151\n",
            "Epoch 95/100\n",
            "34/34 [==============================] - 1s 35ms/step - loss: 0.0150 - mean_squared_error: 0.0150\n",
            "Epoch 96/100\n",
            "34/34 [==============================] - 0s 6ms/step - loss: 0.0148 - mean_squared_error: 0.0148\n",
            "Epoch 97/100\n",
            "34/34 [==============================] - 0s 4ms/step - loss: 0.0147 - mean_squared_error: 0.0147\n",
            "Epoch 98/100\n",
            "34/34 [==============================] - 0s 4ms/step - loss: 0.0146 - mean_squared_error: 0.0146\n",
            "Epoch 99/100\n",
            "34/34 [==============================] - 0s 3ms/step - loss: 0.0145 - mean_squared_error: 0.0145\n",
            "Epoch 100/100\n",
            "34/34 [==============================] - 0s 2ms/step - loss: 0.0145 - mean_squared_error: 0.0145\n"
          ]
        }
      ]
    },
    {
      "cell_type": "code",
      "source": [
        "prediction = model.predict(x)\n",
        "\n",
        "plt.figure()\n",
        "plt.plot(x,prediction,x,y)"
      ],
      "metadata": {
        "colab": {
          "base_uri": "https://localhost:8080/",
          "height": 486
        },
        "id": "RyP2WEDAPqSJ",
        "outputId": "9806495e-0f8f-4e6d-c4e0-54ad5aff600d"
      },
      "execution_count": 5,
      "outputs": [
        {
          "output_type": "stream",
          "name": "stdout",
          "text": [
            "313/313 [==============================] - 1s 2ms/step\n"
          ]
        },
        {
          "output_type": "execute_result",
          "data": {
            "text/plain": [
              "[<matplotlib.lines.Line2D at 0x7fc64c0f0d00>,\n",
              " <matplotlib.lines.Line2D at 0x7fc64c106c10>]"
            ]
          },
          "metadata": {},
          "execution_count": 5
        },
        {
          "output_type": "display_data",
          "data": {
            "text/plain": [
              "<Figure size 640x480 with 1 Axes>"
            ],
            "image/png": "[encoded data removed]"
          },
          "metadata": {}
        }
      ]
    },
    {
      "cell_type": "markdown",
      "source": [
        "# Task 2 Handwritten digits\n",
        "\n"
      ],
      "metadata": {
        "id": "jdveWHuAUEP1"
      }
    },
    {
      "cell_type": "markdown",
      "source": [
        "## 0. Libraries"
      ],
      "metadata": {
        "id": "_lKwxmsfZMXo"
      }
    },
    {
      "cell_type": "code",
      "source": [
        "import numpy as np\n",
        "from tensorflow import keras\n",
        "from keras import layers\n",
        "from keras.utils import to_categorical"
      ],
      "metadata": {
        "id": "L6yt-yMgUDz9"
      },
      "execution_count": 19,
      "outputs": []
    },
    {
      "cell_type": "markdown",
      "source": [
        "## 1.Data"
      ],
      "metadata": {
        "id": "XRfenhFgZP2w"
      }
    },
    {
      "cell_type": "code",
      "source": [
        "(x_train,y_train),(x_test,y_test) = keras.datasets.mnist.load_data()"
      ],
      "metadata": {
        "id": "QskVuNlYZPJ8"
      },
      "execution_count": 20,
      "outputs": []
    },
    {
      "cell_type": "markdown",
      "source": [
        "## 2. Preprocess"
      ],
      "metadata": {
        "id": "5JHf2QRwZUGA"
      }
    },
    {
      "cell_type": "code",
      "source": [
        "x_train = x_train/255-0.5\n",
        "x_test = x_test/255-0.5\n",
        "\n",
        "x_train = np.expand_dims(x_train,axis=3)\n",
        "x_test = np.expand_dims(x_test,axis=3)"
      ],
      "metadata": {
        "id": "eU9IYm7WaXEx"
      },
      "execution_count": 21,
      "outputs": []
    },
    {
      "cell_type": "markdown",
      "source": [
        "## 3. Model"
      ],
      "metadata": {
        "id": "UeviD5uMbvuZ"
      }
    },
    {
      "cell_type": "code",
      "source": [
        "model = Sequential([\n",
        "    layers.Conv2D(64, 3, input_shape=(28, 28, 1)),\n",
        "    layers.MaxPooling2D(pool_size=2),\n",
        "    layers.Flatten(),\n",
        "    layers.Dense(10, activation='softmax'),\n",
        "])\n",
        "\n",
        "model.compile('adam', loss='categorical_crossentropy', metrics=['accuracy'],)"
      ],
      "metadata": {
        "id": "polnG-rNb5JV"
      },
      "execution_count": 22,
      "outputs": []
    },
    {
      "cell_type": "code",
      "source": [
        "model.fit(x_train,to_categorical(y_train),epochs=3,validation_data=(x_test, to_categorical(y_test)),)"
      ],
      "metadata": {
        "colab": {
          "base_uri": "https://localhost:8080/"
        },
        "id": "hNSAjW4DcwZF",
        "outputId": "16b4f49e-b403-4830-c825-cdb6b673cb67"
      },
      "execution_count": 23,
      "outputs": [
        {
          "output_type": "stream",
          "name": "stdout",
          "text": [
            "Epoch 1/3\n",
            "1875/1875 [==============================] - 76s 40ms/step - loss: 0.2303 - accuracy: 0.9336 - val_loss: 0.1078 - val_accuracy: 0.9681\n",
            "Epoch 2/3\n",
            "1875/1875 [==============================] - 74s 39ms/step - loss: 0.0949 - accuracy: 0.9719 - val_loss: 0.0824 - val_accuracy: 0.9752\n",
            "Epoch 3/3\n",
            "1875/1875 [==============================] - 72s 39ms/step - loss: 0.0722 - accuracy: 0.9785 - val_loss: 0.0719 - val_accuracy: 0.9771\n"
          ]
        },
        {
          "output_type": "execute_result",
          "data": {
            "text/plain": [
              "<keras.callbacks.History at 0x7fc63c909a00>"
            ]
          },
          "metadata": {},
          "execution_count": 23
        }
      ]
    },
    {
      "cell_type": "code",
      "source": [
        "# Predict on the first 5 test images.\n",
        "predictions = model.predict(x_test[:20])\n",
        "\n",
        "# Print our model's predictions.\n",
        "print(np.argmax(predictions, axis=1)) # [7, 2, 1, 0, 4]\n",
        "\n",
        "# Check our predictions against the ground truths.\n",
        "print(y_test[:20]) # [7, 2, 1, 0, 4]"
      ],
      "metadata": {
        "colab": {
          "base_uri": "https://localhost:8080/"
        },
        "id": "b-eoHFbRd3uH",
        "outputId": "c28db588-8591-491a-e758-23cd006aa258"
      },
      "execution_count": 26,
      "outputs": [
        {
          "output_type": "stream",
          "name": "stdout",
          "text": [
            "1/1 [==============================] - 1s 582ms/step\n",
            "[7 2 1 0 4 1 4 9 5 9 0 6 9 0 1 5 9 7 8 4]\n",
            "[7 2 1 0 4 1 4 9 5 9 0 6 9 0 1 5 9 7 3 4]\n"
          ]
        }
      ]
    }
  ]
}