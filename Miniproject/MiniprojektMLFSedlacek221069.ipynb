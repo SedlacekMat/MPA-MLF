{
  "nbformat": 4,
  "nbformat_minor": 0,
  "metadata": {
    "colab": {
      "provenance": []
    },
    "kernelspec": {
      "name": "python3",
      "display_name": "Python 3"
    },
    "language_info": {
      "name": "python"
    },
    "accelerator": "GPU",
    "gpuClass": "standard"
  },
  "cells": [
    {
      "cell_type": "markdown",
      "source": [
        "# **MPA-MLF Miniproject; Matyáš Sedláček**"
      ],
      "metadata": {
        "id": "iOQ7htBCArMR"
      }
    },
    {
      "cell_type": "markdown",
      "source": [
        "## **0) Preparation:**"
      ],
      "metadata": {
        "id": "LWUf06cCBNmT"
      }
    },
    {
      "cell_type": "markdown",
      "source": [
        "### Import libraries:"
      ],
      "metadata": {
        "id": "vfdjNUR7BG3Z"
      }
    },
    {
      "cell_type": "code",
      "source": [
        "from keras.models import Sequential\n",
        "from keras.layers import Dense, Flatten, Dropout, LeakyReLU\n",
        "from keras.optimizers import SGD\n",
        "from keras.optimizers import Adam\n",
        "from keras.optimizers import Nadam\n",
        "from keras.optimizers import Adamax\n",
        "from keras.datasets import cifar10\n",
        "from keras.utils import to_categorical\n",
        "\n",
        "import matplotlib.pyplot as plt\n",
        "import matplotlib\n",
        "\n",
        "import numpy as np\n",
        "import pandas as pd\n",
        "\n",
        "from sklearn import preprocessing\n",
        "\n",
        "font = {'weight' : 'bold',\n",
        "        'size'   : 12}\n",
        "\n",
        "matplotlib.rc('font', **font)"
      ],
      "metadata": {
        "id": "MkRuhu7HBE6r"
      },
      "execution_count": 1,
      "outputs": []
    },
    {
      "cell_type": "markdown",
      "source": [
        "### Mount drive and get data:"
      ],
      "metadata": {
        "id": "LM9yx6y8GGE6"
      }
    },
    {
      "cell_type": "code",
      "source": [
        "from google.colab import drive\n",
        "drive.mount('/content/drive')"
      ],
      "metadata": {
        "colab": {
          "base_uri": "https://localhost:8080/"
        },
        "id": "opXsox2_HThX",
        "outputId": "d48458e6-f0fc-4560-b70c-16bc3934efc3"
      },
      "execution_count": 2,
      "outputs": [
        {
          "output_type": "stream",
          "name": "stdout",
          "text": [
            "Drive already mounted at /content/drive; to attempt to forcibly remount, call drive.mount(\"/content/drive\", force_remount=True).\n"
          ]
        }
      ]
    },
    {
      "cell_type": "code",
      "source": [
        "x_test = pd.read_csv('drive/MyDrive/MLFmini/x_test.csv')\n",
        "x_train = pd.read_csv('drive/MyDrive/MLFmini/x_train.csv')\n",
        "y_train = pd.read_csv('drive/MyDrive/MLFmini/y_train.csv')"
      ],
      "metadata": {
        "id": "hWegKnwJH6Xy"
      },
      "execution_count": 3,
      "outputs": []
    },
    {
      "cell_type": "markdown",
      "source": [
        "## **1) Data examination:**"
      ],
      "metadata": {
        "id": "e3-nrP5HKXl2"
      }
    },
    {
      "cell_type": "code",
      "source": [
        "x_train.head(10)"
      ],
      "metadata": {
        "colab": {
          "base_uri": "https://localhost:8080/",
          "height": 363
        },
        "id": "uxlrC0xdKjJN",
        "outputId": "afdf326c-4be0-4ad2-f621-f70ae663251d"
      },
      "execution_count": 4,
      "outputs": [
        {
          "output_type": "execute_result",
          "data": {
            "text/plain": [
              "   Unnamed: 0    cfo_demod  gain_imb     iq_imb     or_off  quadr_err  \\\n",
              "0           0   592.234802  0.048079 -35.082729 -28.560846   1.993170   \n",
              "1           1  -103.302032 -0.019917 -29.946953 -35.798664  -3.642311   \n",
              "2           2  -582.331299  0.036379 -32.096672 -31.905628   2.835839   \n",
              "3           3  -630.611267  0.063928 -38.216297 -30.084171   1.346316   \n",
              "4           4  -415.526978 -0.055761 -29.180740 -36.601025  -3.963526   \n",
              "5           5  -432.158600 -0.030759 -29.860676 -36.194633  -3.675441   \n",
              "6           6 -1121.172485  0.080203 -39.686409 -27.786304   1.063713   \n",
              "7           7   -60.408207  0.097589 -31.729502 -29.707535   2.926517   \n",
              "8           8  -162.684296  0.117599 -32.867283 -28.412897   2.533771   \n",
              "9           9  -460.115356  0.097939 -38.504665 -30.381096   1.198071   \n",
              "\n",
              "    m_power    ph_err   mag_err       evm  Tosc  Tmix  \n",
              "0 -0.499721  1.107926  1.507550  2.423943  39.9  47.6  \n",
              "1 -0.928193  1.236059  2.741568  3.458056  14.8  23.1  \n",
              "2 -1.272485  1.282163  2.140096  3.013522  42.5  48.6  \n",
              "3 -0.596438  1.154848  1.093465  2.254514  26.1  35.4  \n",
              "4  0.113055  1.498889  3.608737  4.286684  24.2  40.8  \n",
              "5  0.243403  1.537498  3.449937  4.194931  27.5  44.8  \n",
              "6 -0.111971  1.197557  0.900188  2.079625  56.8  64.1  \n",
              "7 -0.309486  1.300429  2.170298  3.130086  11.1  18.5  \n",
              "8 -0.761069  1.259792  1.939059  2.873458  47.9  55.0  \n",
              "9 -0.354572  1.201420  1.040533  2.311378  10.6  17.6  "
            ],
            "text/html": [
              "\n",
              "  <div id=\"df-72b44855-d40a-411f-b947-ac6ca54768c7\">\n",
              "    <div class=\"colab-df-container\">\n",
              "      <div>\n",
              "<style scoped>\n",
              "    .dataframe tbody tr th:only-of-type {\n",
              "        vertical-align: middle;\n",
              "    }\n",
              "\n",
              "    .dataframe tbody tr th {\n",
              "        vertical-align: top;\n",
              "    }\n",
              "\n",
              "    .dataframe thead th {\n",
              "        text-align: right;\n",
              "    }\n",
              "</style>\n",
              "<table border=\"1\" class=\"dataframe\">\n",
              "  <thead>\n",
              "    <tr style=\"text-align: right;\">\n",
              "      <th></th>\n",
              "      <th>Unnamed: 0</th>\n",
              "      <th>cfo_demod</th>\n",
              "      <th>gain_imb</th>\n",
              "      <th>iq_imb</th>\n",
              "      <th>or_off</th>\n",
              "      <th>quadr_err</th>\n",
              "      <th>m_power</th>\n",
              "      <th>ph_err</th>\n",
              "      <th>mag_err</th>\n",
              "      <th>evm</th>\n",
              "      <th>Tosc</th>\n",
              "      <th>Tmix</th>\n",
              "    </tr>\n",
              "  </thead>\n",
              "  <tbody>\n",
              "    <tr>\n",
              "      <th>0</th>\n",
              "      <td>0</td>\n",
              "      <td>592.234802</td>\n",
              "      <td>0.048079</td>\n",
              "      <td>-35.082729</td>\n",
              "      <td>-28.560846</td>\n",
              "      <td>1.993170</td>\n",
              "      <td>-0.499721</td>\n",
              "      <td>1.107926</td>\n",
              "      <td>1.507550</td>\n",
              "      <td>2.423943</td>\n",
              "      <td>39.9</td>\n",
              "      <td>47.6</td>\n",
              "    </tr>\n",
              "    <tr>\n",
              "      <th>1</th>\n",
              "      <td>1</td>\n",
              "      <td>-103.302032</td>\n",
              "      <td>-0.019917</td>\n",
              "      <td>-29.946953</td>\n",
              "      <td>-35.798664</td>\n",
              "      <td>-3.642311</td>\n",
              "      <td>-0.928193</td>\n",
              "      <td>1.236059</td>\n",
              "      <td>2.741568</td>\n",
              "      <td>3.458056</td>\n",
              "      <td>14.8</td>\n",
              "      <td>23.1</td>\n",
              "    </tr>\n",
              "    <tr>\n",
              "      <th>2</th>\n",
              "      <td>2</td>\n",
              "      <td>-582.331299</td>\n",
              "      <td>0.036379</td>\n",
              "      <td>-32.096672</td>\n",
              "      <td>-31.905628</td>\n",
              "      <td>2.835839</td>\n",
              "      <td>-1.272485</td>\n",
              "      <td>1.282163</td>\n",
              "      <td>2.140096</td>\n",
              "      <td>3.013522</td>\n",
              "      <td>42.5</td>\n",
              "      <td>48.6</td>\n",
              "    </tr>\n",
              "    <tr>\n",
              "      <th>3</th>\n",
              "      <td>3</td>\n",
              "      <td>-630.611267</td>\n",
              "      <td>0.063928</td>\n",
              "      <td>-38.216297</td>\n",
              "      <td>-30.084171</td>\n",
              "      <td>1.346316</td>\n",
              "      <td>-0.596438</td>\n",
              "      <td>1.154848</td>\n",
              "      <td>1.093465</td>\n",
              "      <td>2.254514</td>\n",
              "      <td>26.1</td>\n",
              "      <td>35.4</td>\n",
              "    </tr>\n",
              "    <tr>\n",
              "      <th>4</th>\n",
              "      <td>4</td>\n",
              "      <td>-415.526978</td>\n",
              "      <td>-0.055761</td>\n",
              "      <td>-29.180740</td>\n",
              "      <td>-36.601025</td>\n",
              "      <td>-3.963526</td>\n",
              "      <td>0.113055</td>\n",
              "      <td>1.498889</td>\n",
              "      <td>3.608737</td>\n",
              "      <td>4.286684</td>\n",
              "      <td>24.2</td>\n",
              "      <td>40.8</td>\n",
              "    </tr>\n",
              "    <tr>\n",
              "      <th>5</th>\n",
              "      <td>5</td>\n",
              "      <td>-432.158600</td>\n",
              "      <td>-0.030759</td>\n",
              "      <td>-29.860676</td>\n",
              "      <td>-36.194633</td>\n",
              "      <td>-3.675441</td>\n",
              "      <td>0.243403</td>\n",
              "      <td>1.537498</td>\n",
              "      <td>3.449937</td>\n",
              "      <td>4.194931</td>\n",
              "      <td>27.5</td>\n",
              "      <td>44.8</td>\n",
              "    </tr>\n",
              "    <tr>\n",
              "      <th>6</th>\n",
              "      <td>6</td>\n",
              "      <td>-1121.172485</td>\n",
              "      <td>0.080203</td>\n",
              "      <td>-39.686409</td>\n",
              "      <td>-27.786304</td>\n",
              "      <td>1.063713</td>\n",
              "      <td>-0.111971</td>\n",
              "      <td>1.197557</td>\n",
              "      <td>0.900188</td>\n",
              "      <td>2.079625</td>\n",
              "      <td>56.8</td>\n",
              "      <td>64.1</td>\n",
              "    </tr>\n",
              "    <tr>\n",
              "      <th>7</th>\n",
              "      <td>7</td>\n",
              "      <td>-60.408207</td>\n",
              "      <td>0.097589</td>\n",
              "      <td>-31.729502</td>\n",
              "      <td>-29.707535</td>\n",
              "      <td>2.926517</td>\n",
              "      <td>-0.309486</td>\n",
              "      <td>1.300429</td>\n",
              "      <td>2.170298</td>\n",
              "      <td>3.130086</td>\n",
              "      <td>11.1</td>\n",
              "      <td>18.5</td>\n",
              "    </tr>\n",
              "    <tr>\n",
              "      <th>8</th>\n",
              "      <td>8</td>\n",
              "      <td>-162.684296</td>\n",
              "      <td>0.117599</td>\n",
              "      <td>-32.867283</td>\n",
              "      <td>-28.412897</td>\n",
              "      <td>2.533771</td>\n",
              "      <td>-0.761069</td>\n",
              "      <td>1.259792</td>\n",
              "      <td>1.939059</td>\n",
              "      <td>2.873458</td>\n",
              "      <td>47.9</td>\n",
              "      <td>55.0</td>\n",
              "    </tr>\n",
              "    <tr>\n",
              "      <th>9</th>\n",
              "      <td>9</td>\n",
              "      <td>-460.115356</td>\n",
              "      <td>0.097939</td>\n",
              "      <td>-38.504665</td>\n",
              "      <td>-30.381096</td>\n",
              "      <td>1.198071</td>\n",
              "      <td>-0.354572</td>\n",
              "      <td>1.201420</td>\n",
              "      <td>1.040533</td>\n",
              "      <td>2.311378</td>\n",
              "      <td>10.6</td>\n",
              "      <td>17.6</td>\n",
              "    </tr>\n",
              "  </tbody>\n",
              "</table>\n",
              "</div>\n",
              "      <button class=\"colab-df-convert\" onclick=\"convertToInteractive('df-72b44855-d40a-411f-b947-ac6ca54768c7')\"\n",
              "              title=\"Convert this dataframe to an interactive table.\"\n",
              "              style=\"display:none;\">\n",
              "        \n",
              "  <svg xmlns=\"http://www.w3.org/2000/svg\" height=\"24px\"viewBox=\"0 0 24 24\"\n",
              "       width=\"24px\">\n",
              "    <path d=\"M0 0h24v24H0V0z\" fill=\"none\"/>\n",
              "    <path d=\"M18.56 5.44l.94 2.06.94-2.06 2.06-.94-2.06-.94-.94-2.06-.94 2.06-2.06.94zm-11 1L8.5 8.5l.94-2.06 2.06-.94-2.06-.94L8.5 2.5l-.94 2.06-2.06.94zm10 10l.94 2.06.94-2.06 2.06-.94-2.06-.94-.94-2.06-.94 2.06-2.06.94z\"/><path d=\"M17.41 7.96l-1.37-1.37c-.4-.4-.92-.59-1.43-.59-.52 0-1.04.2-1.43.59L10.3 9.45l-7.72 7.72c-.78.78-.78 2.05 0 2.83L4 21.41c.39.39.9.59 1.41.59.51 0 1.02-.2 1.41-.59l7.78-7.78 2.81-2.81c.8-.78.8-2.07 0-2.86zM5.41 20L4 18.59l7.72-7.72 1.47 1.35L5.41 20z\"/>\n",
              "  </svg>\n",
              "      </button>\n",
              "      \n",
              "  <style>\n",
              "    .colab-df-container {\n",
              "      display:flex;\n",
              "      flex-wrap:wrap;\n",
              "      gap: 12px;\n",
              "    }\n",
              "\n",
              "    .colab-df-convert {\n",
              "      background-color: #E8F0FE;\n",
              "      border: none;\n",
              "      border-radius: 50%;\n",
              "      cursor: pointer;\n",
              "      display: none;\n",
              "      fill: #1967D2;\n",
              "      height: 32px;\n",
              "      padding: 0 0 0 0;\n",
              "      width: 32px;\n",
              "    }\n",
              "\n",
              "    .colab-df-convert:hover {\n",
              "      background-color: #E2EBFA;\n",
              "      box-shadow: 0px 1px 2px rgba(60, 64, 67, 0.3), 0px 1px 3px 1px rgba(60, 64, 67, 0.15);\n",
              "      fill: #174EA6;\n",
              "    }\n",
              "\n",
              "    [theme=dark] .colab-df-convert {\n",
              "      background-color: #3B4455;\n",
              "      fill: #D2E3FC;\n",
              "    }\n",
              "\n",
              "    [theme=dark] .colab-df-convert:hover {\n",
              "      background-color: #434B5C;\n",
              "      box-shadow: 0px 1px 3px 1px rgba(0, 0, 0, 0.15);\n",
              "      filter: drop-shadow(0px 1px 2px rgba(0, 0, 0, 0.3));\n",
              "      fill: #FFFFFF;\n",
              "    }\n",
              "  </style>\n",
              "\n",
              "      <script>\n",
              "        const buttonEl =\n",
              "          document.querySelector('#df-72b44855-d40a-411f-b947-ac6ca54768c7 button.colab-df-convert');\n",
              "        buttonEl.style.display =\n",
              "          google.colab.kernel.accessAllowed ? 'block' : 'none';\n",
              "\n",
              "        async function convertToInteractive(key) {\n",
              "          const element = document.querySelector('#df-72b44855-d40a-411f-b947-ac6ca54768c7');\n",
              "          const dataTable =\n",
              "            await google.colab.kernel.invokeFunction('convertToInteractive',\n",
              "                                                     [key], {});\n",
              "          if (!dataTable) return;\n",
              "\n",
              "          const docLinkHtml = 'Like what you see? Visit the ' +\n",
              "            '<a target=\"_blank\" href=https://colab.research.google.com/notebooks/data_table.ipynb>data table notebook</a>'\n",
              "            + ' to learn more about interactive tables.';\n",
              "          element.innerHTML = '';\n",
              "          dataTable['output_type'] = 'display_data';\n",
              "          await google.colab.output.renderOutput(dataTable, element);\n",
              "          const docLink = document.createElement('div');\n",
              "          docLink.innerHTML = docLinkHtml;\n",
              "          element.appendChild(docLink);\n",
              "        }\n",
              "      </script>\n",
              "    </div>\n",
              "  </div>\n",
              "  "
            ]
          },
          "metadata": {},
          "execution_count": 4
        }
      ]
    },
    {
      "cell_type": "code",
      "source": [
        "y_train.head(10)"
      ],
      "metadata": {
        "colab": {
          "base_uri": "https://localhost:8080/",
          "height": 363
        },
        "id": "ycNMB-KtLDw9",
        "outputId": "747b2814-587e-45f9-bfb9-25ce5f8a3347"
      },
      "execution_count": 5,
      "outputs": [
        {
          "output_type": "execute_result",
          "data": {
            "text/plain": [
              "   id  target\n",
              "0   0       5\n",
              "1   1       1\n",
              "2   2       6\n",
              "3   3       3\n",
              "4   4       2\n",
              "5   5       2\n",
              "6   6       7\n",
              "7   7       8\n",
              "8   8       8\n",
              "9   9       3"
            ],
            "text/html": [
              "\n",
              "  <div id=\"df-691dc548-086f-4910-b4f7-126273a276bb\">\n",
              "    <div class=\"colab-df-container\">\n",
              "      <div>\n",
              "<style scoped>\n",
              "    .dataframe tbody tr th:only-of-type {\n",
              "        vertical-align: middle;\n",
              "    }\n",
              "\n",
              "    .dataframe tbody tr th {\n",
              "        vertical-align: top;\n",
              "    }\n",
              "\n",
              "    .dataframe thead th {\n",
              "        text-align: right;\n",
              "    }\n",
              "</style>\n",
              "<table border=\"1\" class=\"dataframe\">\n",
              "  <thead>\n",
              "    <tr style=\"text-align: right;\">\n",
              "      <th></th>\n",
              "      <th>id</th>\n",
              "      <th>target</th>\n",
              "    </tr>\n",
              "  </thead>\n",
              "  <tbody>\n",
              "    <tr>\n",
              "      <th>0</th>\n",
              "      <td>0</td>\n",
              "      <td>5</td>\n",
              "    </tr>\n",
              "    <tr>\n",
              "      <th>1</th>\n",
              "      <td>1</td>\n",
              "      <td>1</td>\n",
              "    </tr>\n",
              "    <tr>\n",
              "      <th>2</th>\n",
              "      <td>2</td>\n",
              "      <td>6</td>\n",
              "    </tr>\n",
              "    <tr>\n",
              "      <th>3</th>\n",
              "      <td>3</td>\n",
              "      <td>3</td>\n",
              "    </tr>\n",
              "    <tr>\n",
              "      <th>4</th>\n",
              "      <td>4</td>\n",
              "      <td>2</td>\n",
              "    </tr>\n",
              "    <tr>\n",
              "      <th>5</th>\n",
              "      <td>5</td>\n",
              "      <td>2</td>\n",
              "    </tr>\n",
              "    <tr>\n",
              "      <th>6</th>\n",
              "      <td>6</td>\n",
              "      <td>7</td>\n",
              "    </tr>\n",
              "    <tr>\n",
              "      <th>7</th>\n",
              "      <td>7</td>\n",
              "      <td>8</td>\n",
              "    </tr>\n",
              "    <tr>\n",
              "      <th>8</th>\n",
              "      <td>8</td>\n",
              "      <td>8</td>\n",
              "    </tr>\n",
              "    <tr>\n",
              "      <th>9</th>\n",
              "      <td>9</td>\n",
              "      <td>3</td>\n",
              "    </tr>\n",
              "  </tbody>\n",
              "</table>\n",
              "</div>\n",
              "      <button class=\"colab-df-convert\" onclick=\"convertToInteractive('df-691dc548-086f-4910-b4f7-126273a276bb')\"\n",
              "              title=\"Convert this dataframe to an interactive table.\"\n",
              "              style=\"display:none;\">\n",
              "        \n",
              "  <svg xmlns=\"http://www.w3.org/2000/svg\" height=\"24px\"viewBox=\"0 0 24 24\"\n",
              "       width=\"24px\">\n",
              "    <path d=\"M0 0h24v24H0V0z\" fill=\"none\"/>\n",
              "    <path d=\"M18.56 5.44l.94 2.06.94-2.06 2.06-.94-2.06-.94-.94-2.06-.94 2.06-2.06.94zm-11 1L8.5 8.5l.94-2.06 2.06-.94-2.06-.94L8.5 2.5l-.94 2.06-2.06.94zm10 10l.94 2.06.94-2.06 2.06-.94-2.06-.94-.94-2.06-.94 2.06-2.06.94z\"/><path d=\"M17.41 7.96l-1.37-1.37c-.4-.4-.92-.59-1.43-.59-.52 0-1.04.2-1.43.59L10.3 9.45l-7.72 7.72c-.78.78-.78 2.05 0 2.83L4 21.41c.39.39.9.59 1.41.59.51 0 1.02-.2 1.41-.59l7.78-7.78 2.81-2.81c.8-.78.8-2.07 0-2.86zM5.41 20L4 18.59l7.72-7.72 1.47 1.35L5.41 20z\"/>\n",
              "  </svg>\n",
              "      </button>\n",
              "      \n",
              "  <style>\n",
              "    .colab-df-container {\n",
              "      display:flex;\n",
              "      flex-wrap:wrap;\n",
              "      gap: 12px;\n",
              "    }\n",
              "\n",
              "    .colab-df-convert {\n",
              "      background-color: #E8F0FE;\n",
              "      border: none;\n",
              "      border-radius: 50%;\n",
              "      cursor: pointer;\n",
              "      display: none;\n",
              "      fill: #1967D2;\n",
              "      height: 32px;\n",
              "      padding: 0 0 0 0;\n",
              "      width: 32px;\n",
              "    }\n",
              "\n",
              "    .colab-df-convert:hover {\n",
              "      background-color: #E2EBFA;\n",
              "      box-shadow: 0px 1px 2px rgba(60, 64, 67, 0.3), 0px 1px 3px 1px rgba(60, 64, 67, 0.15);\n",
              "      fill: #174EA6;\n",
              "    }\n",
              "\n",
              "    [theme=dark] .colab-df-convert {\n",
              "      background-color: #3B4455;\n",
              "      fill: #D2E3FC;\n",
              "    }\n",
              "\n",
              "    [theme=dark] .colab-df-convert:hover {\n",
              "      background-color: #434B5C;\n",
              "      box-shadow: 0px 1px 3px 1px rgba(0, 0, 0, 0.15);\n",
              "      filter: drop-shadow(0px 1px 2px rgba(0, 0, 0, 0.3));\n",
              "      fill: #FFFFFF;\n",
              "    }\n",
              "  </style>\n",
              "\n",
              "      <script>\n",
              "        const buttonEl =\n",
              "          document.querySelector('#df-691dc548-086f-4910-b4f7-126273a276bb button.colab-df-convert');\n",
              "        buttonEl.style.display =\n",
              "          google.colab.kernel.accessAllowed ? 'block' : 'none';\n",
              "\n",
              "        async function convertToInteractive(key) {\n",
              "          const element = document.querySelector('#df-691dc548-086f-4910-b4f7-126273a276bb');\n",
              "          const dataTable =\n",
              "            await google.colab.kernel.invokeFunction('convertToInteractive',\n",
              "                                                     [key], {});\n",
              "          if (!dataTable) return;\n",
              "\n",
              "          const docLinkHtml = 'Like what you see? Visit the ' +\n",
              "            '<a target=\"_blank\" href=https://colab.research.google.com/notebooks/data_table.ipynb>data table notebook</a>'\n",
              "            + ' to learn more about interactive tables.';\n",
              "          element.innerHTML = '';\n",
              "          dataTable['output_type'] = 'display_data';\n",
              "          await google.colab.output.renderOutput(dataTable, element);\n",
              "          const docLink = document.createElement('div');\n",
              "          docLink.innerHTML = docLinkHtml;\n",
              "          element.appendChild(docLink);\n",
              "        }\n",
              "      </script>\n",
              "    </div>\n",
              "  </div>\n",
              "  "
            ]
          },
          "metadata": {},
          "execution_count": 5
        }
      ]
    },
    {
      "cell_type": "code",
      "source": [
        "x_test.head(10)"
      ],
      "metadata": {
        "colab": {
          "base_uri": "https://localhost:8080/",
          "height": 363
        },
        "id": "FduTK_JILGrX",
        "outputId": "3d762d05-a3a0-4fed-8214-1f2b3ca78f92"
      },
      "execution_count": 6,
      "outputs": [
        {
          "output_type": "execute_result",
          "data": {
            "text/plain": [
              "   Unnamed: 0   cfo_demod  gain_imb     iq_imb     or_off  quadr_err  \\\n",
              "0           0  516.312866  0.055910 -34.748932 -28.086121   2.064618   \n",
              "1           1 -452.875031  0.091061 -31.916044 -29.092400   2.843033   \n",
              "2           2  543.581909  0.067271 -34.311523 -28.395725   2.160502   \n",
              "3           3 -711.415710  0.001931 -30.205307 -35.895462  -3.537908   \n",
              "4           4 -912.994873  0.054695 -31.485973 -33.110847   3.031799   \n",
              "5           5 -127.396454  0.076116 -32.822315 -28.556459   2.569385   \n",
              "6           6 -327.839325  0.079020 -35.681488 -29.708097   1.810301   \n",
              "7           7 -284.483307 -0.026575 -30.071457 -35.786987  -3.588561   \n",
              "8           8 -258.876770 -0.012376 -30.484192 -36.661945  -3.425236   \n",
              "9           9 -342.999878  0.048045 -46.655155 -30.486408   0.428036   \n",
              "\n",
              "    m_power    ph_err   mag_err       evm  Tosc  Tmix  \n",
              "0 -0.382014  1.166067  1.528550  2.541858  42.7  50.0  \n",
              "1 -0.585288  1.242625  2.044024  2.974349  28.8  37.3  \n",
              "2 -0.272394  1.031588  1.615977  2.427548  29.3  37.8  \n",
              "3 -1.061280  1.260278  2.586169  3.350533  31.9  42.6  \n",
              "4 -0.778807  1.343741  2.222488  3.199810  18.3  24.6  \n",
              "5 -0.805763  1.185854  1.946423  2.825569  43.0  50.4  \n",
              "6 -0.794000  1.250853  1.405979  2.601677  45.1  52.7  \n",
              "7 -0.890105  1.232498  2.697076  3.417039  19.1  28.1  \n",
              "8 -0.771317  1.153064  2.579239  3.210146  37.3  47.8  \n",
              "9 -0.289326  1.072514  0.623592  1.866601   1.4   9.4  "
            ],
            "text/html": [
              "\n",
              "  <div id=\"df-b300627a-fb9c-475b-bdb4-92dda4a46da7\">\n",
              "    <div class=\"colab-df-container\">\n",
              "      <div>\n",
              "<style scoped>\n",
              "    .dataframe tbody tr th:only-of-type {\n",
              "        vertical-align: middle;\n",
              "    }\n",
              "\n",
              "    .dataframe tbody tr th {\n",
              "        vertical-align: top;\n",
              "    }\n",
              "\n",
              "    .dataframe thead th {\n",
              "        text-align: right;\n",
              "    }\n",
              "</style>\n",
              "<table border=\"1\" class=\"dataframe\">\n",
              "  <thead>\n",
              "    <tr style=\"text-align: right;\">\n",
              "      <th></th>\n",
              "      <th>Unnamed: 0</th>\n",
              "      <th>cfo_demod</th>\n",
              "      <th>gain_imb</th>\n",
              "      <th>iq_imb</th>\n",
              "      <th>or_off</th>\n",
              "      <th>quadr_err</th>\n",
              "      <th>m_power</th>\n",
              "      <th>ph_err</th>\n",
              "      <th>mag_err</th>\n",
              "      <th>evm</th>\n",
              "      <th>Tosc</th>\n",
              "      <th>Tmix</th>\n",
              "    </tr>\n",
              "  </thead>\n",
              "  <tbody>\n",
              "    <tr>\n",
              "      <th>0</th>\n",
              "      <td>0</td>\n",
              "      <td>516.312866</td>\n",
              "      <td>0.055910</td>\n",
              "      <td>-34.748932</td>\n",
              "      <td>-28.086121</td>\n",
              "      <td>2.064618</td>\n",
              "      <td>-0.382014</td>\n",
              "      <td>1.166067</td>\n",
              "      <td>1.528550</td>\n",
              "      <td>2.541858</td>\n",
              "      <td>42.7</td>\n",
              "      <td>50.0</td>\n",
              "    </tr>\n",
              "    <tr>\n",
              "      <th>1</th>\n",
              "      <td>1</td>\n",
              "      <td>-452.875031</td>\n",
              "      <td>0.091061</td>\n",
              "      <td>-31.916044</td>\n",
              "      <td>-29.092400</td>\n",
              "      <td>2.843033</td>\n",
              "      <td>-0.585288</td>\n",
              "      <td>1.242625</td>\n",
              "      <td>2.044024</td>\n",
              "      <td>2.974349</td>\n",
              "      <td>28.8</td>\n",
              "      <td>37.3</td>\n",
              "    </tr>\n",
              "    <tr>\n",
              "      <th>2</th>\n",
              "      <td>2</td>\n",
              "      <td>543.581909</td>\n",
              "      <td>0.067271</td>\n",
              "      <td>-34.311523</td>\n",
              "      <td>-28.395725</td>\n",
              "      <td>2.160502</td>\n",
              "      <td>-0.272394</td>\n",
              "      <td>1.031588</td>\n",
              "      <td>1.615977</td>\n",
              "      <td>2.427548</td>\n",
              "      <td>29.3</td>\n",
              "      <td>37.8</td>\n",
              "    </tr>\n",
              "    <tr>\n",
              "      <th>3</th>\n",
              "      <td>3</td>\n",
              "      <td>-711.415710</td>\n",
              "      <td>0.001931</td>\n",
              "      <td>-30.205307</td>\n",
              "      <td>-35.895462</td>\n",
              "      <td>-3.537908</td>\n",
              "      <td>-1.061280</td>\n",
              "      <td>1.260278</td>\n",
              "      <td>2.586169</td>\n",
              "      <td>3.350533</td>\n",
              "      <td>31.9</td>\n",
              "      <td>42.6</td>\n",
              "    </tr>\n",
              "    <tr>\n",
              "      <th>4</th>\n",
              "      <td>4</td>\n",
              "      <td>-912.994873</td>\n",
              "      <td>0.054695</td>\n",
              "      <td>-31.485973</td>\n",
              "      <td>-33.110847</td>\n",
              "      <td>3.031799</td>\n",
              "      <td>-0.778807</td>\n",
              "      <td>1.343741</td>\n",
              "      <td>2.222488</td>\n",
              "      <td>3.199810</td>\n",
              "      <td>18.3</td>\n",
              "      <td>24.6</td>\n",
              "    </tr>\n",
              "    <tr>\n",
              "      <th>5</th>\n",
              "      <td>5</td>\n",
              "      <td>-127.396454</td>\n",
              "      <td>0.076116</td>\n",
              "      <td>-32.822315</td>\n",
              "      <td>-28.556459</td>\n",
              "      <td>2.569385</td>\n",
              "      <td>-0.805763</td>\n",
              "      <td>1.185854</td>\n",
              "      <td>1.946423</td>\n",
              "      <td>2.825569</td>\n",
              "      <td>43.0</td>\n",
              "      <td>50.4</td>\n",
              "    </tr>\n",
              "    <tr>\n",
              "      <th>6</th>\n",
              "      <td>6</td>\n",
              "      <td>-327.839325</td>\n",
              "      <td>0.079020</td>\n",
              "      <td>-35.681488</td>\n",
              "      <td>-29.708097</td>\n",
              "      <td>1.810301</td>\n",
              "      <td>-0.794000</td>\n",
              "      <td>1.250853</td>\n",
              "      <td>1.405979</td>\n",
              "      <td>2.601677</td>\n",
              "      <td>45.1</td>\n",
              "      <td>52.7</td>\n",
              "    </tr>\n",
              "    <tr>\n",
              "      <th>7</th>\n",
              "      <td>7</td>\n",
              "      <td>-284.483307</td>\n",
              "      <td>-0.026575</td>\n",
              "      <td>-30.071457</td>\n",
              "      <td>-35.786987</td>\n",
              "      <td>-3.588561</td>\n",
              "      <td>-0.890105</td>\n",
              "      <td>1.232498</td>\n",
              "      <td>2.697076</td>\n",
              "      <td>3.417039</td>\n",
              "      <td>19.1</td>\n",
              "      <td>28.1</td>\n",
              "    </tr>\n",
              "    <tr>\n",
              "      <th>8</th>\n",
              "      <td>8</td>\n",
              "      <td>-258.876770</td>\n",
              "      <td>-0.012376</td>\n",
              "      <td>-30.484192</td>\n",
              "      <td>-36.661945</td>\n",
              "      <td>-3.425236</td>\n",
              "      <td>-0.771317</td>\n",
              "      <td>1.153064</td>\n",
              "      <td>2.579239</td>\n",
              "      <td>3.210146</td>\n",
              "      <td>37.3</td>\n",
              "      <td>47.8</td>\n",
              "    </tr>\n",
              "    <tr>\n",
              "      <th>9</th>\n",
              "      <td>9</td>\n",
              "      <td>-342.999878</td>\n",
              "      <td>0.048045</td>\n",
              "      <td>-46.655155</td>\n",
              "      <td>-30.486408</td>\n",
              "      <td>0.428036</td>\n",
              "      <td>-0.289326</td>\n",
              "      <td>1.072514</td>\n",
              "      <td>0.623592</td>\n",
              "      <td>1.866601</td>\n",
              "      <td>1.4</td>\n",
              "      <td>9.4</td>\n",
              "    </tr>\n",
              "  </tbody>\n",
              "</table>\n",
              "</div>\n",
              "      <button class=\"colab-df-convert\" onclick=\"convertToInteractive('df-b300627a-fb9c-475b-bdb4-92dda4a46da7')\"\n",
              "              title=\"Convert this dataframe to an interactive table.\"\n",
              "              style=\"display:none;\">\n",
              "        \n",
              "  <svg xmlns=\"http://www.w3.org/2000/svg\" height=\"24px\"viewBox=\"0 0 24 24\"\n",
              "       width=\"24px\">\n",
              "    <path d=\"M0 0h24v24H0V0z\" fill=\"none\"/>\n",
              "    <path d=\"M18.56 5.44l.94 2.06.94-2.06 2.06-.94-2.06-.94-.94-2.06-.94 2.06-2.06.94zm-11 1L8.5 8.5l.94-2.06 2.06-.94-2.06-.94L8.5 2.5l-.94 2.06-2.06.94zm10 10l.94 2.06.94-2.06 2.06-.94-2.06-.94-.94-2.06-.94 2.06-2.06.94z\"/><path d=\"M17.41 7.96l-1.37-1.37c-.4-.4-.92-.59-1.43-.59-.52 0-1.04.2-1.43.59L10.3 9.45l-7.72 7.72c-.78.78-.78 2.05 0 2.83L4 21.41c.39.39.9.59 1.41.59.51 0 1.02-.2 1.41-.59l7.78-7.78 2.81-2.81c.8-.78.8-2.07 0-2.86zM5.41 20L4 18.59l7.72-7.72 1.47 1.35L5.41 20z\"/>\n",
              "  </svg>\n",
              "      </button>\n",
              "      \n",
              "  <style>\n",
              "    .colab-df-container {\n",
              "      display:flex;\n",
              "      flex-wrap:wrap;\n",
              "      gap: 12px;\n",
              "    }\n",
              "\n",
              "    .colab-df-convert {\n",
              "      background-color: #E8F0FE;\n",
              "      border: none;\n",
              "      border-radius: 50%;\n",
              "      cursor: pointer;\n",
              "      display: none;\n",
              "      fill: #1967D2;\n",
              "      height: 32px;\n",
              "      padding: 0 0 0 0;\n",
              "      width: 32px;\n",
              "    }\n",
              "\n",
              "    .colab-df-convert:hover {\n",
              "      background-color: #E2EBFA;\n",
              "      box-shadow: 0px 1px 2px rgba(60, 64, 67, 0.3), 0px 1px 3px 1px rgba(60, 64, 67, 0.15);\n",
              "      fill: #174EA6;\n",
              "    }\n",
              "\n",
              "    [theme=dark] .colab-df-convert {\n",
              "      background-color: #3B4455;\n",
              "      fill: #D2E3FC;\n",
              "    }\n",
              "\n",
              "    [theme=dark] .colab-df-convert:hover {\n",
              "      background-color: #434B5C;\n",
              "      box-shadow: 0px 1px 3px 1px rgba(0, 0, 0, 0.15);\n",
              "      filter: drop-shadow(0px 1px 2px rgba(0, 0, 0, 0.3));\n",
              "      fill: #FFFFFF;\n",
              "    }\n",
              "  </style>\n",
              "\n",
              "      <script>\n",
              "        const buttonEl =\n",
              "          document.querySelector('#df-b300627a-fb9c-475b-bdb4-92dda4a46da7 button.colab-df-convert');\n",
              "        buttonEl.style.display =\n",
              "          google.colab.kernel.accessAllowed ? 'block' : 'none';\n",
              "\n",
              "        async function convertToInteractive(key) {\n",
              "          const element = document.querySelector('#df-b300627a-fb9c-475b-bdb4-92dda4a46da7');\n",
              "          const dataTable =\n",
              "            await google.colab.kernel.invokeFunction('convertToInteractive',\n",
              "                                                     [key], {});\n",
              "          if (!dataTable) return;\n",
              "\n",
              "          const docLinkHtml = 'Like what you see? Visit the ' +\n",
              "            '<a target=\"_blank\" href=https://colab.research.google.com/notebooks/data_table.ipynb>data table notebook</a>'\n",
              "            + ' to learn more about interactive tables.';\n",
              "          element.innerHTML = '';\n",
              "          dataTable['output_type'] = 'display_data';\n",
              "          await google.colab.output.renderOutput(dataTable, element);\n",
              "          const docLink = document.createElement('div');\n",
              "          docLink.innerHTML = docLinkHtml;\n",
              "          element.appendChild(docLink);\n",
              "        }\n",
              "      </script>\n",
              "    </div>\n",
              "  </div>\n",
              "  "
            ]
          },
          "metadata": {},
          "execution_count": 6
        }
      ]
    },
    {
      "cell_type": "markdown",
      "source": [
        "According to the task specifications we need to drop the **m_power**, **Tosc** and **Tmix** columns. We can drop **Unnamed: 0** as well, since it's just the row indices. We will be left with eight columns/features to work with."
      ],
      "metadata": {
        "id": "bYFmssRZMdK_"
      }
    },
    {
      "cell_type": "code",
      "source": [
        "x_train.info()"
      ],
      "metadata": {
        "colab": {
          "base_uri": "https://localhost:8080/"
        },
        "id": "zY5t6rWEQGAy",
        "outputId": "f95c78e2-50f9-4720-ed3b-40d35ff49427"
      },
      "execution_count": 7,
      "outputs": [
        {
          "output_type": "stream",
          "name": "stdout",
          "text": [
            "<class 'pandas.core.frame.DataFrame'>\n",
            "RangeIndex: 15360 entries, 0 to 15359\n",
            "Data columns (total 12 columns):\n",
            " #   Column      Non-Null Count  Dtype  \n",
            "---  ------      --------------  -----  \n",
            " 0   Unnamed: 0  15360 non-null  int64  \n",
            " 1   cfo_demod   15360 non-null  float64\n",
            " 2   gain_imb    15360 non-null  float64\n",
            " 3   iq_imb      15360 non-null  float64\n",
            " 4   or_off      15360 non-null  float64\n",
            " 5   quadr_err   15360 non-null  float64\n",
            " 6   m_power     15360 non-null  float64\n",
            " 7   ph_err      15360 non-null  float64\n",
            " 8   mag_err     15360 non-null  float64\n",
            " 9   evm         15360 non-null  float64\n",
            " 10  Tosc        15360 non-null  float64\n",
            " 11  Tmix        15360 non-null  float64\n",
            "dtypes: float64(11), int64(1)\n",
            "memory usage: 1.4 MB\n"
          ]
        }
      ]
    },
    {
      "cell_type": "markdown",
      "source": [
        "There's no missing values or NaN so we don't have to deal with that."
      ],
      "metadata": {
        "id": "czs0G1nwQXdr"
      }
    },
    {
      "cell_type": "code",
      "source": [
        "NumLabels = len(y_train['target'].unique())"
      ],
      "metadata": {
        "id": "2x1P_2uLOvQe"
      },
      "execution_count": 8,
      "outputs": []
    },
    {
      "cell_type": "code",
      "source": [
        "y_train['target'].value_counts()"
      ],
      "metadata": {
        "colab": {
          "base_uri": "https://localhost:8080/"
        },
        "id": "ERgAP2qoPpvV",
        "outputId": "c5e2c43d-925c-4711-99ba-04444f136421"
      },
      "execution_count": 9,
      "outputs": [
        {
          "output_type": "execute_result",
          "data": {
            "text/plain": [
              "4    1949\n",
              "2    1929\n",
              "7    1920\n",
              "6    1917\n",
              "3    1916\n",
              "1    1912\n",
              "8    1910\n",
              "5    1907\n",
              "Name: target, dtype: int64"
            ]
          },
          "metadata": {},
          "execution_count": 9
        }
      ]
    },
    {
      "cell_type": "markdown",
      "source": [
        "We will be classifying the data into 8 classes. We see that all are present in roughly the same amount, so no preprocessing is needed on this front."
      ],
      "metadata": {
        "id": "3pYHANbLOulC"
      }
    },
    {
      "cell_type": "code",
      "source": [
        "y_train.info()"
      ],
      "metadata": {
        "colab": {
          "base_uri": "https://localhost:8080/"
        },
        "id": "rZRlSgHWS7xL",
        "outputId": "aa13c86d-8e99-4fd3-fcef-6c4e3dd9d225"
      },
      "execution_count": 10,
      "outputs": [
        {
          "output_type": "stream",
          "name": "stdout",
          "text": [
            "<class 'pandas.core.frame.DataFrame'>\n",
            "RangeIndex: 15360 entries, 0 to 15359\n",
            "Data columns (total 2 columns):\n",
            " #   Column  Non-Null Count  Dtype\n",
            "---  ------  --------------  -----\n",
            " 0   id      15360 non-null  int64\n",
            " 1   target  15360 non-null  int64\n",
            "dtypes: int64(2)\n",
            "memory usage: 240.1 KB\n"
          ]
        }
      ]
    },
    {
      "cell_type": "markdown",
      "source": [
        "No missing values here as well."
      ],
      "metadata": {
        "id": "MPhfCPJcS-hq"
      }
    },
    {
      "cell_type": "markdown",
      "source": [
        "## **2) Data preprocessing:**"
      ],
      "metadata": {
        "id": "tm_6Vk63MWOa"
      }
    },
    {
      "cell_type": "markdown",
      "source": [
        "###Removing unsuitable/redundant data:"
      ],
      "metadata": {
        "id": "Kaymuxg2UMd5"
      }
    },
    {
      "cell_type": "code",
      "source": [
        "dropXCols = ['Unnamed: 0', 'm_power', 'Tosc', 'Tmix']\n",
        "dropYCols = 'id'\n",
        "x_train = x_train.drop(dropXCols, axis=1)\n",
        "x_test = x_test.drop(dropXCols, axis=1)\n",
        "y_train = y_train.drop(dropYCols, axis=1)"
      ],
      "metadata": {
        "id": "yUwOCx8DTMoK"
      },
      "execution_count": 11,
      "outputs": []
    },
    {
      "cell_type": "markdown",
      "source": [
        "### Applying value scaling:"
      ],
      "metadata": {
        "id": "P3A0nXZFU6yW"
      }
    },
    {
      "cell_type": "code",
      "source": [
        "#for training data\n",
        "xScaler = preprocessing.MinMaxScaler()\n",
        "x_trainCols = x_train.columns\n",
        "x_trainVals = xScaler.fit_transform(x_train.values)\n",
        "x_train = pd.DataFrame(x_trainVals, columns=x_trainCols)\n",
        "x_train.head(10)"
      ],
      "metadata": {
        "colab": {
          "base_uri": "https://localhost:8080/",
          "height": 363
        },
        "id": "CoG6COeOZUh7",
        "outputId": "4080f47c-b220-476d-a8ae-c5e2c8335fcb"
      },
      "execution_count": 12,
      "outputs": [
        {
          "output_type": "execute_result",
          "data": {
            "text/plain": [
              "   cfo_demod  gain_imb    iq_imb    or_off  quadr_err    ph_err   mag_err  \\\n",
              "0   0.930809  0.542445  0.760654  0.844057   0.824101  0.023830  0.109756   \n",
              "1   0.599548  0.299964  0.945212  0.343402   0.088250  0.035936  0.230634   \n",
              "2   0.371403  0.500723  0.867960  0.612692   0.934132  0.040292  0.171717   \n",
              "3   0.348409  0.598966  0.648047  0.738686   0.739638  0.028263  0.069194   \n",
              "4   0.450846  0.172137  0.972746  0.287901   0.046307  0.060769  0.315578   \n",
              "5   0.442925  0.261300  0.948312  0.316012   0.083924  0.064417  0.300023   \n",
              "6   0.114771  0.657005  0.595217  0.897634   0.702737  0.032298  0.050261   \n",
              "7   0.619977  0.719003  0.881155  0.764738   0.945972  0.042018  0.174675   \n",
              "8   0.571267  0.790362  0.840268  0.854291   0.894690  0.038179  0.152024   \n",
              "9   0.429610  0.720252  0.637684  0.718147   0.720281  0.032663  0.064009   \n",
              "\n",
              "        evm  \n",
              "0  0.044470  \n",
              "1  0.103537  \n",
              "2  0.078146  \n",
              "3  0.034793  \n",
              "4  0.150866  \n",
              "5  0.145626  \n",
              "6  0.024804  \n",
              "7  0.084804  \n",
              "8  0.070146  \n",
              "9  0.038041  "
            ],
            "text/html": [
              "\n",
              "  <div id=\"df-b885ecbe-92c4-486c-b55e-a69462b66732\">\n",
              "    <div class=\"colab-df-container\">\n",
              "      <div>\n",
              "<style scoped>\n",
              "    .dataframe tbody tr th:only-of-type {\n",
              "        vertical-align: middle;\n",
              "    }\n",
              "\n",
              "    .dataframe tbody tr th {\n",
              "        vertical-align: top;\n",
              "    }\n",
              "\n",
              "    .dataframe thead th {\n",
              "        text-align: right;\n",
              "    }\n",
              "</style>\n",
              "<table border=\"1\" class=\"dataframe\">\n",
              "  <thead>\n",
              "    <tr style=\"text-align: right;\">\n",
              "      <th></th>\n",
              "      <th>cfo_demod</th>\n",
              "      <th>gain_imb</th>\n",
              "      <th>iq_imb</th>\n",
              "      <th>or_off</th>\n",
              "      <th>quadr_err</th>\n",
              "      <th>ph_err</th>\n",
              "      <th>mag_err</th>\n",
              "      <th>evm</th>\n",
              "    </tr>\n",
              "  </thead>\n",
              "  <tbody>\n",
              "    <tr>\n",
              "      <th>0</th>\n",
              "      <td>0.930809</td>\n",
              "      <td>0.542445</td>\n",
              "      <td>0.760654</td>\n",
              "      <td>0.844057</td>\n",
              "      <td>0.824101</td>\n",
              "      <td>0.023830</td>\n",
              "      <td>0.109756</td>\n",
              "      <td>0.044470</td>\n",
              "    </tr>\n",
              "    <tr>\n",
              "      <th>1</th>\n",
              "      <td>0.599548</td>\n",
              "      <td>0.299964</td>\n",
              "      <td>0.945212</td>\n",
              "      <td>0.343402</td>\n",
              "      <td>0.088250</td>\n",
              "      <td>0.035936</td>\n",
              "      <td>0.230634</td>\n",
              "      <td>0.103537</td>\n",
              "    </tr>\n",
              "    <tr>\n",
              "      <th>2</th>\n",
              "      <td>0.371403</td>\n",
              "      <td>0.500723</td>\n",
              "      <td>0.867960</td>\n",
              "      <td>0.612692</td>\n",
              "      <td>0.934132</td>\n",
              "      <td>0.040292</td>\n",
              "      <td>0.171717</td>\n",
              "      <td>0.078146</td>\n",
              "    </tr>\n",
              "    <tr>\n",
              "      <th>3</th>\n",
              "      <td>0.348409</td>\n",
              "      <td>0.598966</td>\n",
              "      <td>0.648047</td>\n",
              "      <td>0.738686</td>\n",
              "      <td>0.739638</td>\n",
              "      <td>0.028263</td>\n",
              "      <td>0.069194</td>\n",
              "      <td>0.034793</td>\n",
              "    </tr>\n",
              "    <tr>\n",
              "      <th>4</th>\n",
              "      <td>0.450846</td>\n",
              "      <td>0.172137</td>\n",
              "      <td>0.972746</td>\n",
              "      <td>0.287901</td>\n",
              "      <td>0.046307</td>\n",
              "      <td>0.060769</td>\n",
              "      <td>0.315578</td>\n",
              "      <td>0.150866</td>\n",
              "    </tr>\n",
              "    <tr>\n",
              "      <th>5</th>\n",
              "      <td>0.442925</td>\n",
              "      <td>0.261300</td>\n",
              "      <td>0.948312</td>\n",
              "      <td>0.316012</td>\n",
              "      <td>0.083924</td>\n",
              "      <td>0.064417</td>\n",
              "      <td>0.300023</td>\n",
              "      <td>0.145626</td>\n",
              "    </tr>\n",
              "    <tr>\n",
              "      <th>6</th>\n",
              "      <td>0.114771</td>\n",
              "      <td>0.657005</td>\n",
              "      <td>0.595217</td>\n",
              "      <td>0.897634</td>\n",
              "      <td>0.702737</td>\n",
              "      <td>0.032298</td>\n",
              "      <td>0.050261</td>\n",
              "      <td>0.024804</td>\n",
              "    </tr>\n",
              "    <tr>\n",
              "      <th>7</th>\n",
              "      <td>0.619977</td>\n",
              "      <td>0.719003</td>\n",
              "      <td>0.881155</td>\n",
              "      <td>0.764738</td>\n",
              "      <td>0.945972</td>\n",
              "      <td>0.042018</td>\n",
              "      <td>0.174675</td>\n",
              "      <td>0.084804</td>\n",
              "    </tr>\n",
              "    <tr>\n",
              "      <th>8</th>\n",
              "      <td>0.571267</td>\n",
              "      <td>0.790362</td>\n",
              "      <td>0.840268</td>\n",
              "      <td>0.854291</td>\n",
              "      <td>0.894690</td>\n",
              "      <td>0.038179</td>\n",
              "      <td>0.152024</td>\n",
              "      <td>0.070146</td>\n",
              "    </tr>\n",
              "    <tr>\n",
              "      <th>9</th>\n",
              "      <td>0.429610</td>\n",
              "      <td>0.720252</td>\n",
              "      <td>0.637684</td>\n",
              "      <td>0.718147</td>\n",
              "      <td>0.720281</td>\n",
              "      <td>0.032663</td>\n",
              "      <td>0.064009</td>\n",
              "      <td>0.038041</td>\n",
              "    </tr>\n",
              "  </tbody>\n",
              "</table>\n",
              "</div>\n",
              "      <button class=\"colab-df-convert\" onclick=\"convertToInteractive('df-b885ecbe-92c4-486c-b55e-a69462b66732')\"\n",
              "              title=\"Convert this dataframe to an interactive table.\"\n",
              "              style=\"display:none;\">\n",
              "        \n",
              "  <svg xmlns=\"http://www.w3.org/2000/svg\" height=\"24px\"viewBox=\"0 0 24 24\"\n",
              "       width=\"24px\">\n",
              "    <path d=\"M0 0h24v24H0V0z\" fill=\"none\"/>\n",
              "    <path d=\"M18.56 5.44l.94 2.06.94-2.06 2.06-.94-2.06-.94-.94-2.06-.94 2.06-2.06.94zm-11 1L8.5 8.5l.94-2.06 2.06-.94-2.06-.94L8.5 2.5l-.94 2.06-2.06.94zm10 10l.94 2.06.94-2.06 2.06-.94-2.06-.94-.94-2.06-.94 2.06-2.06.94z\"/><path d=\"M17.41 7.96l-1.37-1.37c-.4-.4-.92-.59-1.43-.59-.52 0-1.04.2-1.43.59L10.3 9.45l-7.72 7.72c-.78.78-.78 2.05 0 2.83L4 21.41c.39.39.9.59 1.41.59.51 0 1.02-.2 1.41-.59l7.78-7.78 2.81-2.81c.8-.78.8-2.07 0-2.86zM5.41 20L4 18.59l7.72-7.72 1.47 1.35L5.41 20z\"/>\n",
              "  </svg>\n",
              "      </button>\n",
              "      \n",
              "  <style>\n",
              "    .colab-df-container {\n",
              "      display:flex;\n",
              "      flex-wrap:wrap;\n",
              "      gap: 12px;\n",
              "    }\n",
              "\n",
              "    .colab-df-convert {\n",
              "      background-color: #E8F0FE;\n",
              "      border: none;\n",
              "      border-radius: 50%;\n",
              "      cursor: pointer;\n",
              "      display: none;\n",
              "      fill: #1967D2;\n",
              "      height: 32px;\n",
              "      padding: 0 0 0 0;\n",
              "      width: 32px;\n",
              "    }\n",
              "\n",
              "    .colab-df-convert:hover {\n",
              "      background-color: #E2EBFA;\n",
              "      box-shadow: 0px 1px 2px rgba(60, 64, 67, 0.3), 0px 1px 3px 1px rgba(60, 64, 67, 0.15);\n",
              "      fill: #174EA6;\n",
              "    }\n",
              "\n",
              "    [theme=dark] .colab-df-convert {\n",
              "      background-color: #3B4455;\n",
              "      fill: #D2E3FC;\n",
              "    }\n",
              "\n",
              "    [theme=dark] .colab-df-convert:hover {\n",
              "      background-color: #434B5C;\n",
              "      box-shadow: 0px 1px 3px 1px rgba(0, 0, 0, 0.15);\n",
              "      filter: drop-shadow(0px 1px 2px rgba(0, 0, 0, 0.3));\n",
              "      fill: #FFFFFF;\n",
              "    }\n",
              "  </style>\n",
              "\n",
              "      <script>\n",
              "        const buttonEl =\n",
              "          document.querySelector('#df-b885ecbe-92c4-486c-b55e-a69462b66732 button.colab-df-convert');\n",
              "        buttonEl.style.display =\n",
              "          google.colab.kernel.accessAllowed ? 'block' : 'none';\n",
              "\n",
              "        async function convertToInteractive(key) {\n",
              "          const element = document.querySelector('#df-b885ecbe-92c4-486c-b55e-a69462b66732');\n",
              "          const dataTable =\n",
              "            await google.colab.kernel.invokeFunction('convertToInteractive',\n",
              "                                                     [key], {});\n",
              "          if (!dataTable) return;\n",
              "\n",
              "          const docLinkHtml = 'Like what you see? Visit the ' +\n",
              "            '<a target=\"_blank\" href=https://colab.research.google.com/notebooks/data_table.ipynb>data table notebook</a>'\n",
              "            + ' to learn more about interactive tables.';\n",
              "          element.innerHTML = '';\n",
              "          dataTable['output_type'] = 'display_data';\n",
              "          await google.colab.output.renderOutput(dataTable, element);\n",
              "          const docLink = document.createElement('div');\n",
              "          docLink.innerHTML = docLinkHtml;\n",
              "          element.appendChild(docLink);\n",
              "        }\n",
              "      </script>\n",
              "    </div>\n",
              "  </div>\n",
              "  "
            ]
          },
          "metadata": {},
          "execution_count": 12
        }
      ]
    },
    {
      "cell_type": "code",
      "source": [
        "#for testing data\n",
        "x_testVals = xScaler.fit_transform(x_test.values)\n",
        "x_test = pd.DataFrame(x_testVals, columns=x_trainCols)\n",
        "x_test.head(10)"
      ],
      "metadata": {
        "colab": {
          "base_uri": "https://localhost:8080/",
          "height": 363
        },
        "id": "eJyKR067cRTW",
        "outputId": "b265f4ba-0c67-4e39-f2bd-be89207d2dec"
      },
      "execution_count": 13,
      "outputs": [
        {
          "output_type": "execute_result",
          "data": {
            "text/plain": [
              "   cfo_demod  gain_imb    iq_imb    or_off  quadr_err    ph_err   mag_err  \\\n",
              "0   0.900080  0.831951  0.767681  0.892258   0.840250  0.036315  0.179878   \n",
              "1   0.430066  0.909459  0.871589  0.821504   0.942545  0.045914  0.261912   \n",
              "2   0.913305  0.857002  0.783725  0.870489   0.852851  0.019454  0.193791   \n",
              "3   0.304685  0.712926  0.934338  0.343164   0.103999  0.048127  0.348190   \n",
              "4   0.206928  0.829272  0.887364  0.538957   0.967351  0.058592  0.290313   \n",
              "5   0.587909  0.876505  0.838348  0.859187   0.906583  0.038796  0.246379   \n",
              "6   0.490703  0.882909  0.733475  0.778213   0.806829  0.046945  0.160371   \n",
              "7   0.511729  0.650070  0.939247  0.350791   0.097343  0.044644  0.365841   \n",
              "8   0.524147  0.681379  0.924109  0.289271   0.118806  0.034685  0.347088   \n",
              "9   0.483351  0.814607  0.330969  0.723488   0.625180  0.024586  0.035860   \n",
              "\n",
              "        evm  \n",
              "0  0.063664  \n",
              "1  0.094728  \n",
              "2  0.055454  \n",
              "3  0.121748  \n",
              "4  0.110922  \n",
              "5  0.084042  \n",
              "6  0.067961  \n",
              "7  0.126525  \n",
              "8  0.111665  \n",
              "9  0.015163  "
            ],
            "text/html": [
              "\n",
              "  <div id=\"df-6ed9b45e-9d20-4c48-8c60-8661eda7cb73\">\n",
              "    <div class=\"colab-df-container\">\n",
              "      <div>\n",
              "<style scoped>\n",
              "    .dataframe tbody tr th:only-of-type {\n",
              "        vertical-align: middle;\n",
              "    }\n",
              "\n",
              "    .dataframe tbody tr th {\n",
              "        vertical-align: top;\n",
              "    }\n",
              "\n",
              "    .dataframe thead th {\n",
              "        text-align: right;\n",
              "    }\n",
              "</style>\n",
              "<table border=\"1\" class=\"dataframe\">\n",
              "  <thead>\n",
              "    <tr style=\"text-align: right;\">\n",
              "      <th></th>\n",
              "      <th>cfo_demod</th>\n",
              "      <th>gain_imb</th>\n",
              "      <th>iq_imb</th>\n",
              "      <th>or_off</th>\n",
              "      <th>quadr_err</th>\n",
              "      <th>ph_err</th>\n",
              "      <th>mag_err</th>\n",
              "      <th>evm</th>\n",
              "    </tr>\n",
              "  </thead>\n",
              "  <tbody>\n",
              "    <tr>\n",
              "      <th>0</th>\n",
              "      <td>0.900080</td>\n",
              "      <td>0.831951</td>\n",
              "      <td>0.767681</td>\n",
              "      <td>0.892258</td>\n",
              "      <td>0.840250</td>\n",
              "      <td>0.036315</td>\n",
              "      <td>0.179878</td>\n",
              "      <td>0.063664</td>\n",
              "    </tr>\n",
              "    <tr>\n",
              "      <th>1</th>\n",
              "      <td>0.430066</td>\n",
              "      <td>0.909459</td>\n",
              "      <td>0.871589</td>\n",
              "      <td>0.821504</td>\n",
              "      <td>0.942545</td>\n",
              "      <td>0.045914</td>\n",
              "      <td>0.261912</td>\n",
              "      <td>0.094728</td>\n",
              "    </tr>\n",
              "    <tr>\n",
              "      <th>2</th>\n",
              "      <td>0.913305</td>\n",
              "      <td>0.857002</td>\n",
              "      <td>0.783725</td>\n",
              "      <td>0.870489</td>\n",
              "      <td>0.852851</td>\n",
              "      <td>0.019454</td>\n",
              "      <td>0.193791</td>\n",
              "      <td>0.055454</td>\n",
              "    </tr>\n",
              "    <tr>\n",
              "      <th>3</th>\n",
              "      <td>0.304685</td>\n",
              "      <td>0.712926</td>\n",
              "      <td>0.934338</td>\n",
              "      <td>0.343164</td>\n",
              "      <td>0.103999</td>\n",
              "      <td>0.048127</td>\n",
              "      <td>0.348190</td>\n",
              "      <td>0.121748</td>\n",
              "    </tr>\n",
              "    <tr>\n",
              "      <th>4</th>\n",
              "      <td>0.206928</td>\n",
              "      <td>0.829272</td>\n",
              "      <td>0.887364</td>\n",
              "      <td>0.538957</td>\n",
              "      <td>0.967351</td>\n",
              "      <td>0.058592</td>\n",
              "      <td>0.290313</td>\n",
              "      <td>0.110922</td>\n",
              "    </tr>\n",
              "    <tr>\n",
              "      <th>5</th>\n",
              "      <td>0.587909</td>\n",
              "      <td>0.876505</td>\n",
              "      <td>0.838348</td>\n",
              "      <td>0.859187</td>\n",
              "      <td>0.906583</td>\n",
              "      <td>0.038796</td>\n",
              "      <td>0.246379</td>\n",
              "      <td>0.084042</td>\n",
              "    </tr>\n",
              "    <tr>\n",
              "      <th>6</th>\n",
              "      <td>0.490703</td>\n",
              "      <td>0.882909</td>\n",
              "      <td>0.733475</td>\n",
              "      <td>0.778213</td>\n",
              "      <td>0.806829</td>\n",
              "      <td>0.046945</td>\n",
              "      <td>0.160371</td>\n",
              "      <td>0.067961</td>\n",
              "    </tr>\n",
              "    <tr>\n",
              "      <th>7</th>\n",
              "      <td>0.511729</td>\n",
              "      <td>0.650070</td>\n",
              "      <td>0.939247</td>\n",
              "      <td>0.350791</td>\n",
              "      <td>0.097343</td>\n",
              "      <td>0.044644</td>\n",
              "      <td>0.365841</td>\n",
              "      <td>0.126525</td>\n",
              "    </tr>\n",
              "    <tr>\n",
              "      <th>8</th>\n",
              "      <td>0.524147</td>\n",
              "      <td>0.681379</td>\n",
              "      <td>0.924109</td>\n",
              "      <td>0.289271</td>\n",
              "      <td>0.118806</td>\n",
              "      <td>0.034685</td>\n",
              "      <td>0.347088</td>\n",
              "      <td>0.111665</td>\n",
              "    </tr>\n",
              "    <tr>\n",
              "      <th>9</th>\n",
              "      <td>0.483351</td>\n",
              "      <td>0.814607</td>\n",
              "      <td>0.330969</td>\n",
              "      <td>0.723488</td>\n",
              "      <td>0.625180</td>\n",
              "      <td>0.024586</td>\n",
              "      <td>0.035860</td>\n",
              "      <td>0.015163</td>\n",
              "    </tr>\n",
              "  </tbody>\n",
              "</table>\n",
              "</div>\n",
              "      <button class=\"colab-df-convert\" onclick=\"convertToInteractive('df-6ed9b45e-9d20-4c48-8c60-8661eda7cb73')\"\n",
              "              title=\"Convert this dataframe to an interactive table.\"\n",
              "              style=\"display:none;\">\n",
              "        \n",
              "  <svg xmlns=\"http://www.w3.org/2000/svg\" height=\"24px\"viewBox=\"0 0 24 24\"\n",
              "       width=\"24px\">\n",
              "    <path d=\"M0 0h24v24H0V0z\" fill=\"none\"/>\n",
              "    <path d=\"M18.56 5.44l.94 2.06.94-2.06 2.06-.94-2.06-.94-.94-2.06-.94 2.06-2.06.94zm-11 1L8.5 8.5l.94-2.06 2.06-.94-2.06-.94L8.5 2.5l-.94 2.06-2.06.94zm10 10l.94 2.06.94-2.06 2.06-.94-2.06-.94-.94-2.06-.94 2.06-2.06.94z\"/><path d=\"M17.41 7.96l-1.37-1.37c-.4-.4-.92-.59-1.43-.59-.52 0-1.04.2-1.43.59L10.3 9.45l-7.72 7.72c-.78.78-.78 2.05 0 2.83L4 21.41c.39.39.9.59 1.41.59.51 0 1.02-.2 1.41-.59l7.78-7.78 2.81-2.81c.8-.78.8-2.07 0-2.86zM5.41 20L4 18.59l7.72-7.72 1.47 1.35L5.41 20z\"/>\n",
              "  </svg>\n",
              "      </button>\n",
              "      \n",
              "  <style>\n",
              "    .colab-df-container {\n",
              "      display:flex;\n",
              "      flex-wrap:wrap;\n",
              "      gap: 12px;\n",
              "    }\n",
              "\n",
              "    .colab-df-convert {\n",
              "      background-color: #E8F0FE;\n",
              "      border: none;\n",
              "      border-radius: 50%;\n",
              "      cursor: pointer;\n",
              "      display: none;\n",
              "      fill: #1967D2;\n",
              "      height: 32px;\n",
              "      padding: 0 0 0 0;\n",
              "      width: 32px;\n",
              "    }\n",
              "\n",
              "    .colab-df-convert:hover {\n",
              "      background-color: #E2EBFA;\n",
              "      box-shadow: 0px 1px 2px rgba(60, 64, 67, 0.3), 0px 1px 3px 1px rgba(60, 64, 67, 0.15);\n",
              "      fill: #174EA6;\n",
              "    }\n",
              "\n",
              "    [theme=dark] .colab-df-convert {\n",
              "      background-color: #3B4455;\n",
              "      fill: #D2E3FC;\n",
              "    }\n",
              "\n",
              "    [theme=dark] .colab-df-convert:hover {\n",
              "      background-color: #434B5C;\n",
              "      box-shadow: 0px 1px 3px 1px rgba(0, 0, 0, 0.15);\n",
              "      filter: drop-shadow(0px 1px 2px rgba(0, 0, 0, 0.3));\n",
              "      fill: #FFFFFF;\n",
              "    }\n",
              "  </style>\n",
              "\n",
              "      <script>\n",
              "        const buttonEl =\n",
              "          document.querySelector('#df-6ed9b45e-9d20-4c48-8c60-8661eda7cb73 button.colab-df-convert');\n",
              "        buttonEl.style.display =\n",
              "          google.colab.kernel.accessAllowed ? 'block' : 'none';\n",
              "\n",
              "        async function convertToInteractive(key) {\n",
              "          const element = document.querySelector('#df-6ed9b45e-9d20-4c48-8c60-8661eda7cb73');\n",
              "          const dataTable =\n",
              "            await google.colab.kernel.invokeFunction('convertToInteractive',\n",
              "                                                     [key], {});\n",
              "          if (!dataTable) return;\n",
              "\n",
              "          const docLinkHtml = 'Like what you see? Visit the ' +\n",
              "            '<a target=\"_blank\" href=https://colab.research.google.com/notebooks/data_table.ipynb>data table notebook</a>'\n",
              "            + ' to learn more about interactive tables.';\n",
              "          element.innerHTML = '';\n",
              "          dataTable['output_type'] = 'display_data';\n",
              "          await google.colab.output.renderOutput(dataTable, element);\n",
              "          const docLink = document.createElement('div');\n",
              "          docLink.innerHTML = docLinkHtml;\n",
              "          element.appendChild(docLink);\n",
              "        }\n",
              "      </script>\n",
              "    </div>\n",
              "  </div>\n",
              "  "
            ]
          },
          "metadata": {},
          "execution_count": 13
        }
      ]
    },
    {
      "cell_type": "code",
      "source": [
        "# one-hot encoding for labels\n",
        "y_train = y_train - 1 #solves out of bounds problems\n",
        "y_train = to_categorical(y_train, num_classes = NumLabels)\n",
        "y_train = pd.DataFrame(y_train)"
      ],
      "metadata": {
        "id": "YZd0Hb-Sfbz0"
      },
      "execution_count": 14,
      "outputs": []
    },
    {
      "cell_type": "markdown",
      "source": [
        "# **3) Model building and training**"
      ],
      "metadata": {
        "id": "bffN0wBrdEby"
      }
    },
    {
      "cell_type": "markdown",
      "source": [
        "### Model:"
      ],
      "metadata": {
        "id": "ChT_CT2vhjPr"
      }
    },
    {
      "cell_type": "code",
      "source": [
        "model = Sequential()\n",
        "model.add(Flatten(input_shape=(NumLabels, 1)))      \n",
        "model.add(Dense(64, activation='gelu'))\n",
        "model.add(Dense(NumLabels, activation='softmax'))\n",
        "\n",
        "model.summary()"
      ],
      "metadata": {
        "colab": {
          "base_uri": "https://localhost:8080/"
        },
        "id": "J4ZfvUw1dP6l",
        "outputId": "639e80a4-68a4-4fa1-9e81-d456c5361cb9"
      },
      "execution_count": 15,
      "outputs": [
        {
          "output_type": "stream",
          "name": "stdout",
          "text": [
            "Model: \"sequential\"\n",
            "_________________________________________________________________\n",
            " Layer (type)                Output Shape              Param #   \n",
            "=================================================================\n",
            " flatten (Flatten)           (None, 8)                 0         \n",
            "                                                                 \n",
            " dense (Dense)               (None, 64)                576       \n",
            "                                                                 \n",
            " dense_1 (Dense)             (None, 8)                 520       \n",
            "                                                                 \n",
            "=================================================================\n",
            "Total params: 1,096\n",
            "Trainable params: 1,096\n",
            "Non-trainable params: 0\n",
            "_________________________________________________________________\n"
          ]
        }
      ]
    },
    {
      "cell_type": "markdown",
      "source": [
        "### Optimizer:"
      ],
      "metadata": {
        "id": "QF2uu7LjhQHr"
      }
    },
    {
      "cell_type": "code",
      "source": [
        "optimizer = SGD(learning_rate = 0.1)\n",
        "model.compile(loss='categorical_crossentropy', optimizer=optimizer, metrics=['accuracy'])"
      ],
      "metadata": {
        "id": "AAmzqAjyhS8N"
      },
      "execution_count": 16,
      "outputs": []
    },
    {
      "cell_type": "markdown",
      "source": [
        "### Model training:"
      ],
      "metadata": {
        "id": "wAWbZYhzhlXZ"
      }
    },
    {
      "cell_type": "code",
      "source": [
        "history = model.fit(x_train, y_train, epochs=30, batch_size=40, validation_split = 0.2)"
      ],
      "metadata": {
        "colab": {
          "base_uri": "https://localhost:8080/"
        },
        "id": "p9SoSk9uhtfS",
        "outputId": "747b1b51-ff00-4521-e9fc-28a1f7a2d3ce"
      },
      "execution_count": 17,
      "outputs": [
        {
          "output_type": "stream",
          "name": "stdout",
          "text": [
            "Epoch 1/30\n",
            "308/308 [==============================] - 5s 8ms/step - loss: 1.4558 - accuracy: 0.6353 - val_loss: 0.8559 - val_accuracy: 0.7985\n",
            "Epoch 2/30\n",
            "308/308 [==============================] - 2s 6ms/step - loss: 0.5752 - accuracy: 0.9227 - val_loss: 0.3941 - val_accuracy: 0.9635\n",
            "Epoch 3/30\n",
            "308/308 [==============================] - 2s 6ms/step - loss: 0.3151 - accuracy: 0.9691 - val_loss: 0.2559 - val_accuracy: 0.9495\n",
            "Epoch 4/30\n",
            "308/308 [==============================] - 2s 5ms/step - loss: 0.2118 - accuracy: 0.9785 - val_loss: 0.1808 - val_accuracy: 0.9801\n",
            "Epoch 5/30\n",
            "308/308 [==============================] - 2s 6ms/step - loss: 0.1580 - accuracy: 0.9828 - val_loss: 0.1431 - val_accuracy: 0.9710\n",
            "Epoch 6/30\n",
            "308/308 [==============================] - 3s 8ms/step - loss: 0.1256 - accuracy: 0.9875 - val_loss: 0.1180 - val_accuracy: 0.9863\n",
            "Epoch 7/30\n",
            "308/308 [==============================] - 3s 10ms/step - loss: 0.1035 - accuracy: 0.9897 - val_loss: 0.0948 - val_accuracy: 0.9863\n",
            "Epoch 8/30\n",
            "308/308 [==============================] - 3s 8ms/step - loss: 0.0876 - accuracy: 0.9915 - val_loss: 0.0824 - val_accuracy: 0.9876\n",
            "Epoch 9/30\n",
            "308/308 [==============================] - 3s 10ms/step - loss: 0.0766 - accuracy: 0.9924 - val_loss: 0.0719 - val_accuracy: 0.9919\n",
            "Epoch 10/30\n",
            "308/308 [==============================] - 2s 5ms/step - loss: 0.0672 - accuracy: 0.9931 - val_loss: 0.0662 - val_accuracy: 0.9941\n",
            "Epoch 11/30\n",
            "308/308 [==============================] - 1s 3ms/step - loss: 0.0603 - accuracy: 0.9941 - val_loss: 0.0671 - val_accuracy: 0.9840\n",
            "Epoch 12/30\n",
            "308/308 [==============================] - 1s 4ms/step - loss: 0.0546 - accuracy: 0.9942 - val_loss: 0.0511 - val_accuracy: 0.9935\n",
            "Epoch 13/30\n",
            "308/308 [==============================] - 2s 5ms/step - loss: 0.0501 - accuracy: 0.9945 - val_loss: 0.0483 - val_accuracy: 0.9945\n",
            "Epoch 14/30\n",
            "308/308 [==============================] - 1s 5ms/step - loss: 0.0459 - accuracy: 0.9947 - val_loss: 0.0532 - val_accuracy: 0.9941\n",
            "Epoch 15/30\n",
            "308/308 [==============================] - 1s 4ms/step - loss: 0.0424 - accuracy: 0.9954 - val_loss: 0.0406 - val_accuracy: 0.9938\n",
            "Epoch 16/30\n",
            "308/308 [==============================] - 1s 3ms/step - loss: 0.0394 - accuracy: 0.9954 - val_loss: 0.0407 - val_accuracy: 0.9925\n",
            "Epoch 17/30\n",
            "308/308 [==============================] - 1s 4ms/step - loss: 0.0370 - accuracy: 0.9960 - val_loss: 0.0379 - val_accuracy: 0.9951\n",
            "Epoch 18/30\n",
            "308/308 [==============================] - 2s 5ms/step - loss: 0.0350 - accuracy: 0.9960 - val_loss: 0.0352 - val_accuracy: 0.9948\n",
            "Epoch 19/30\n",
            "308/308 [==============================] - 1s 5ms/step - loss: 0.0329 - accuracy: 0.9959 - val_loss: 0.0322 - val_accuracy: 0.9954\n",
            "Epoch 20/30\n",
            "308/308 [==============================] - 1s 4ms/step - loss: 0.0311 - accuracy: 0.9963 - val_loss: 0.0309 - val_accuracy: 0.9964\n",
            "Epoch 21/30\n",
            "308/308 [==============================] - 1s 4ms/step - loss: 0.0295 - accuracy: 0.9963 - val_loss: 0.0292 - val_accuracy: 0.9954\n",
            "Epoch 22/30\n",
            "308/308 [==============================] - 1s 4ms/step - loss: 0.0281 - accuracy: 0.9967 - val_loss: 0.0275 - val_accuracy: 0.9967\n",
            "Epoch 23/30\n",
            "308/308 [==============================] - 1s 4ms/step - loss: 0.0269 - accuracy: 0.9968 - val_loss: 0.0270 - val_accuracy: 0.9951\n",
            "Epoch 24/30\n",
            "308/308 [==============================] - 1s 5ms/step - loss: 0.0256 - accuracy: 0.9970 - val_loss: 0.0277 - val_accuracy: 0.9951\n",
            "Epoch 25/30\n",
            "308/308 [==============================] - 2s 5ms/step - loss: 0.0246 - accuracy: 0.9972 - val_loss: 0.0276 - val_accuracy: 0.9948\n",
            "Epoch 26/30\n",
            "308/308 [==============================] - 1s 4ms/step - loss: 0.0237 - accuracy: 0.9973 - val_loss: 0.0243 - val_accuracy: 0.9974\n",
            "Epoch 27/30\n",
            "308/308 [==============================] - 1s 4ms/step - loss: 0.0229 - accuracy: 0.9972 - val_loss: 0.0235 - val_accuracy: 0.9961\n",
            "Epoch 28/30\n",
            "308/308 [==============================] - 1s 3ms/step - loss: 0.0220 - accuracy: 0.9974 - val_loss: 0.0228 - val_accuracy: 0.9967\n",
            "Epoch 29/30\n",
            "308/308 [==============================] - 1s 4ms/step - loss: 0.0210 - accuracy: 0.9973 - val_loss: 0.0227 - val_accuracy: 0.9961\n",
            "Epoch 30/30\n",
            "308/308 [==============================] - 1s 4ms/step - loss: 0.0205 - accuracy: 0.9976 - val_loss: 0.0204 - val_accuracy: 0.9961\n"
          ]
        }
      ]
    },
    {
      "cell_type": "code",
      "source": [
        "plt.figure()\n",
        "plt.plot(history.history['loss'])\n",
        "plt.plot(history.history['val_loss'])"
      ],
      "metadata": {
        "colab": {
          "base_uri": "https://localhost:8080/",
          "height": 285
        },
        "id": "58u-JaDfpLGK",
        "outputId": "bdfe0574-9cc3-4293-ae41-df6345507eef"
      },
      "execution_count": 18,
      "outputs": [
        {
          "output_type": "execute_result",
          "data": {
            "text/plain": [
              "[<matplotlib.lines.Line2D at 0x7f806c1be430>]"
            ]
          },
          "metadata": {},
          "execution_count": 18
        },
        {
          "output_type": "display_data",
          "data": {
            "text/plain": [
              "<Figure size 432x288 with 1 Axes>"
            ],
            "image/png": "[encoded data removed]"
          },
          "metadata": {
            "needs_background": "light"
          }
        }
      ]
    },
    {
      "cell_type": "code",
      "source": [
        "plt.figure()\n",
        "plt.plot(history.history['accuracy'])\n",
        "plt.plot(history.history['val_accuracy'])"
      ],
      "metadata": {
        "colab": {
          "base_uri": "https://localhost:8080/",
          "height": 285
        },
        "id": "ib7vQRpJpMLq",
        "outputId": "d63ca425-6f5a-4121-8046-f713183f94c9"
      },
      "execution_count": 19,
      "outputs": [
        {
          "output_type": "execute_result",
          "data": {
            "text/plain": [
              "[<matplotlib.lines.Line2D at 0x7f806c0c34f0>]"
            ]
          },
          "metadata": {},
          "execution_count": 19
        },
        {
          "output_type": "display_data",
          "data": {
            "text/plain": [
              "<Figure size 432x288 with 1 Axes>"
            ],
            "image/png": "[encoded data removed]"
          },
          "metadata": {
            "needs_background": "light"
          }
        }
      ]
    },
    {
      "cell_type": "code",
      "source": [
        "score = model.evaluate(x_train, y_train, verbose=0)\n",
        "print('Test loss:', score[0])\n",
        "print(f'Test accuracy: {score[1]*100} %')"
      ],
      "metadata": {
        "colab": {
          "base_uri": "https://localhost:8080/"
        },
        "id": "Y3LIVQAopuwp",
        "outputId": "1e31d835-f7b8-43e9-f5e0-9f2c9b02cc54"
      },
      "execution_count": 20,
      "outputs": [
        {
          "output_type": "stream",
          "name": "stdout",
          "text": [
            "Test loss: 0.019851000979542732\n",
            "Test accuracy: 99.72005486488342 %\n"
          ]
        }
      ]
    },
    {
      "cell_type": "markdown",
      "source": [
        "# **4) Extract output for evaluation**"
      ],
      "metadata": {
        "id": "TbA25NShyNcS"
      }
    },
    {
      "cell_type": "code",
      "source": [
        "predictions = model.predict(x_test)\n",
        "predictions = pd.DataFrame(predictions)\n",
        "predictions = predictions.idxmax(axis=1)+1\n",
        "predictions = pd.DataFrame(predictions, columns=['target'])\n",
        "predictions.insert(0,'id',np.arange(len(predictions)))"
      ],
      "metadata": {
        "colab": {
          "base_uri": "https://localhost:8080/"
        },
        "id": "XYSDVb8NyUEp",
        "outputId": "d48fc5e1-76dd-4fb7-d7e7-728dc545eac3"
      },
      "execution_count": 21,
      "outputs": [
        {
          "output_type": "stream",
          "name": "stdout",
          "text": [
            "120/120 [==============================] - 0s 2ms/step\n"
          ]
        }
      ]
    },
    {
      "cell_type": "markdown",
      "source": [
        "### Save to *.csv file"
      ],
      "metadata": {
        "id": "ztUgyq7o3gHp"
      }
    },
    {
      "cell_type": "code",
      "source": [
        "predictions.to_csv('predictions.csv', index=False)"
      ],
      "metadata": {
        "id": "dMRWiOGQ3kv5"
      },
      "execution_count": 23,
      "outputs": []
    }
  ]
}